{
 "cells": [
  {
   "cell_type": "markdown",
   "metadata": {},
   "source": [
    "Hola Jimena!\n",
    "\n",
    "Soy **Patricio Requena** 👋. Es un placer ser el revisor de tu proyecto el día de hoy!\n",
    "\n",
    "Revisaré tu proyecto detenidamente con el objetivo de ayudarte a mejorar y perfeccionar tus habilidades. Durante mi revisión, identificaré áreas donde puedas hacer mejoras en tu código, señalando específicamente qué y cómo podrías ajustar para optimizar el rendimiento y la claridad de tu proyecto. Además, es importante para mí destacar los aspectos que has manejado excepcionalmente bien. Reconocer tus fortalezas te ayudará a entender qué técnicas y métodos están funcionando a tu favor y cómo puedes aplicarlos en futuras tareas. \n",
    "\n",
    "_**Recuerda que al final de este notebook encontrarás un comentario general de mi parte**_, empecemos!\n",
    "\n",
    "Encontrarás mis comentarios dentro de cajas verdes, amarillas o rojas, ⚠️ **por favor, no muevas, modifiques o borres mis comentarios** ⚠️:\n",
    "\n",
    "\n",
    "<div class=\"alert alert-block alert-success\">\n",
    "<b>Comentario del revisor</b> <a class=“tocSkip”></a>\n",
    "Si todo está perfecto.\n",
    "</div>\n",
    "\n",
    "<div class=\"alert alert-block alert-warning\">\n",
    "<b>Comentario del revisor</b> <a class=“tocSkip”></a>\n",
    "Si tu código está bien pero se puede mejorar o hay algún detalle que le hace falta.\n",
    "</div>\n",
    "\n",
    "<div class=\"alert alert-block alert-danger\">\n",
    "<b>Comentario del revisor</b> <a class=“tocSkip”></a>\n",
    "Si de pronto hace falta algo o existe algún problema con tu código o conclusiones.\n",
    "</div>\n",
    "\n",
    "Puedes responderme de esta forma:\n",
    "<div class=\"alert alert-block alert-info\">\n",
    "<b>Respuesta del estudiante</b> <a class=“tocSkip”></a>\n",
    "</div>"
   ]
  },
  {
   "cell_type": "markdown",
   "metadata": {},
   "source": [
    "SPRINT 8 - MACHINE LEARNING\n",
    "--\n",
    "Descripcion.\n",
    "\n",
    "La compañía móvil Megaline no está satisfecha al ver que muchos de sus clientes utilizan planes heredados. Quieren desarrollar un modelo que pueda analizar el comportamiento de los clientes y recomendar uno de los nuevos planes de Megaline: Smart o Ultra.\n",
    "\n",
    "Se trabaja con datos de comportamiento de los suscriptores que ya se han cambiado a los planes nuevos. \n",
    "\n",
    "Buscaremos un umbral de exactitud del 0.75. "
   ]
  },
  {
   "cell_type": "markdown",
   "metadata": {},
   "source": [
    "Preparacion de datos y herramientas de trabajo.\n",
    "---"
   ]
  },
  {
   "cell_type": "code",
   "execution_count": 1,
   "metadata": {},
   "outputs": [],
   "source": [
    "#IMPORTAR LIBRERIAS\n",
    "import pandas as pd\n",
    "from sklearn.model_selection import train_test_split\n",
    "from sklearn.metrics import accuracy_score\n",
    "from sklearn.tree import DecisionTreeClassifier\n",
    "from sklearn.tree import DecisionTreeRegressor\n",
    "from sklearn.ensemble import RandomForestClassifier\n",
    "from sklearn.ensemble import RandomForestRegressor\n",
    "from sklearn.metrics import mean_squared_error\n",
    "from sklearn.linear_model import LogisticRegression\n",
    "from sklearn.linear_model import LinearRegression\n",
    "from sklearn.metrics import f1_score"
   ]
  },
  {
   "cell_type": "code",
   "execution_count": 2,
   "metadata": {},
   "outputs": [
    {
     "name": "stdout",
     "output_type": "stream",
     "text": [
      "<class 'pandas.core.frame.DataFrame'>\n",
      "RangeIndex: 3214 entries, 0 to 3213\n",
      "Data columns (total 5 columns):\n",
      " #   Column    Non-Null Count  Dtype  \n",
      "---  ------    --------------  -----  \n",
      " 0   calls     3214 non-null   float64\n",
      " 1   minutes   3214 non-null   float64\n",
      " 2   messages  3214 non-null   float64\n",
      " 3   mb_used   3214 non-null   float64\n",
      " 4   is_ultra  3214 non-null   int64  \n",
      "dtypes: float64(4), int64(1)\n",
      "memory usage: 125.7 KB\n"
     ]
    },
    {
     "data": {
      "text/html": [
       "<div>\n",
       "<style scoped>\n",
       "    .dataframe tbody tr th:only-of-type {\n",
       "        vertical-align: middle;\n",
       "    }\n",
       "\n",
       "    .dataframe tbody tr th {\n",
       "        vertical-align: top;\n",
       "    }\n",
       "\n",
       "    .dataframe thead th {\n",
       "        text-align: right;\n",
       "    }\n",
       "</style>\n",
       "<table border=\"1\" class=\"dataframe\">\n",
       "  <thead>\n",
       "    <tr style=\"text-align: right;\">\n",
       "      <th></th>\n",
       "      <th>calls</th>\n",
       "      <th>minutes</th>\n",
       "      <th>messages</th>\n",
       "      <th>mb_used</th>\n",
       "      <th>is_ultra</th>\n",
       "    </tr>\n",
       "  </thead>\n",
       "  <tbody>\n",
       "    <tr>\n",
       "      <th>0</th>\n",
       "      <td>40.0</td>\n",
       "      <td>311.90</td>\n",
       "      <td>83.0</td>\n",
       "      <td>19915.42</td>\n",
       "      <td>0</td>\n",
       "    </tr>\n",
       "    <tr>\n",
       "      <th>1</th>\n",
       "      <td>85.0</td>\n",
       "      <td>516.75</td>\n",
       "      <td>56.0</td>\n",
       "      <td>22696.96</td>\n",
       "      <td>0</td>\n",
       "    </tr>\n",
       "    <tr>\n",
       "      <th>2</th>\n",
       "      <td>77.0</td>\n",
       "      <td>467.66</td>\n",
       "      <td>86.0</td>\n",
       "      <td>21060.45</td>\n",
       "      <td>0</td>\n",
       "    </tr>\n",
       "    <tr>\n",
       "      <th>3</th>\n",
       "      <td>106.0</td>\n",
       "      <td>745.53</td>\n",
       "      <td>81.0</td>\n",
       "      <td>8437.39</td>\n",
       "      <td>1</td>\n",
       "    </tr>\n",
       "    <tr>\n",
       "      <th>4</th>\n",
       "      <td>66.0</td>\n",
       "      <td>418.74</td>\n",
       "      <td>1.0</td>\n",
       "      <td>14502.75</td>\n",
       "      <td>0</td>\n",
       "    </tr>\n",
       "    <tr>\n",
       "      <th>5</th>\n",
       "      <td>58.0</td>\n",
       "      <td>344.56</td>\n",
       "      <td>21.0</td>\n",
       "      <td>15823.37</td>\n",
       "      <td>0</td>\n",
       "    </tr>\n",
       "    <tr>\n",
       "      <th>6</th>\n",
       "      <td>57.0</td>\n",
       "      <td>431.64</td>\n",
       "      <td>20.0</td>\n",
       "      <td>3738.90</td>\n",
       "      <td>1</td>\n",
       "    </tr>\n",
       "    <tr>\n",
       "      <th>7</th>\n",
       "      <td>15.0</td>\n",
       "      <td>132.40</td>\n",
       "      <td>6.0</td>\n",
       "      <td>21911.60</td>\n",
       "      <td>0</td>\n",
       "    </tr>\n",
       "    <tr>\n",
       "      <th>8</th>\n",
       "      <td>7.0</td>\n",
       "      <td>43.39</td>\n",
       "      <td>3.0</td>\n",
       "      <td>2538.67</td>\n",
       "      <td>1</td>\n",
       "    </tr>\n",
       "    <tr>\n",
       "      <th>9</th>\n",
       "      <td>90.0</td>\n",
       "      <td>665.41</td>\n",
       "      <td>38.0</td>\n",
       "      <td>17358.61</td>\n",
       "      <td>0</td>\n",
       "    </tr>\n",
       "  </tbody>\n",
       "</table>\n",
       "</div>"
      ],
      "text/plain": [
       "   calls  minutes  messages   mb_used  is_ultra\n",
       "0   40.0   311.90      83.0  19915.42         0\n",
       "1   85.0   516.75      56.0  22696.96         0\n",
       "2   77.0   467.66      86.0  21060.45         0\n",
       "3  106.0   745.53      81.0   8437.39         1\n",
       "4   66.0   418.74       1.0  14502.75         0\n",
       "5   58.0   344.56      21.0  15823.37         0\n",
       "6   57.0   431.64      20.0   3738.90         1\n",
       "7   15.0   132.40       6.0  21911.60         0\n",
       "8    7.0    43.39       3.0   2538.67         1\n",
       "9   90.0   665.41      38.0  17358.61         0"
      ]
     },
     "metadata": {},
     "output_type": "display_data"
    },
    {
     "name": "stdout",
     "output_type": "stream",
     "text": [
      "\n",
      "Podemos ver que tenemos  0 duplicados\n"
     ]
    }
   ],
   "source": [
    "df = pd.read_csv('dataset/users_behavior.csv')\n",
    "df.info()\n",
    "display(df.head(10))\n",
    "\n",
    "print('\\nPodemos ver que tenemos ',df.duplicated().sum(),'duplicados')"
   ]
  },
  {
   "cell_type": "markdown",
   "metadata": {},
   "source": [
    "<div class=\"alert alert-block alert-success\">\n",
    "<b>Comentario del revisor (1ra Iteracion)</b> <a class=“tocSkip”></a>\n",
    "\n",
    "Buen trabajo cargando tus librerías y tus datasets en celdas separadas, estoy ayuda a que la lectura de tu proyecto sea más fácil de llevarla\n",
    "</div>"
   ]
  },
  {
   "cell_type": "markdown",
   "metadata": {},
   "source": [
    "<div class=\"alert alert-block alert-warning\">\n",
    "<b>Comentario del revisor (1ra Iteracion)</b> <a class=“tocSkip”></a>\n",
    "\n",
    "Recuerda que para mostrar el resultado de tu DataFrame no es recomendable usar print ya que esto le quita al notebook la capacidad de mostrar el resultado cómo una tabla. Te recomiendo en su lugar usar `display()`\n",
    "</div>"
   ]
  },
  {
   "cell_type": "code",
   "execution_count": 45,
   "metadata": {},
   "outputs": [
    {
     "name": "stdout",
     "output_type": "stream",
     "text": [
      "             calls    minutes  messages      mb_used\n",
      "is_ultra                                            \n",
      "0         130315.0  904846.84   74413.0  36128672.83\n",
      "1          72292.0  503556.20   48623.0  19176790.88\n",
      "          calls  minutes  messages  mb_used\n",
      "is_ultra                                   \n",
      "0          2229     2229      2229     2229\n",
      "1           985      985       985      985\n"
     ]
    }
   ],
   "source": [
    "print(df.groupby('is_ultra').sum())\n",
    "print(df.groupby('is_ultra').count())"
   ]
  },
  {
   "cell_type": "markdown",
   "metadata": {},
   "source": [
    "Podemos ver que tenemos mas clientes utilizando el plan SMART que el plan ULTRA. \n",
    "Por esto, la cantidad de mensajes, llamadas y de uso de datos será mayor en el plan SMART. \n",
    "Tambien podemos ver con ayuda de info() que no contamos con valores nulos y de igual forma no tenemos valores duplicados."
   ]
  },
  {
   "cell_type": "markdown",
   "metadata": {},
   "source": [
    "Dividir el dataset en un conjunto de entrenamiento y en un conjunto de validacion y preuba con un porcentaje del 40%, para despues dividir este conjunto entre dos, uno para validacion y otro para prueba; el valor de estado random de 54321. \n",
    "Tendremos 2410 filas en el conjunto de entrenamiento y 804 filas en el conjunto de validacion. "
   ]
  },
  {
   "cell_type": "code",
   "execution_count": 46,
   "metadata": {},
   "outputs": [
    {
     "name": "stdout",
     "output_type": "stream",
     "text": [
      "<class 'pandas.core.frame.DataFrame'>\n",
      "Index: 1928 entries, 389 to 2641\n",
      "Data columns (total 5 columns):\n",
      " #   Column    Non-Null Count  Dtype  \n",
      "---  ------    --------------  -----  \n",
      " 0   calls     1928 non-null   float64\n",
      " 1   minutes   1928 non-null   float64\n",
      " 2   messages  1928 non-null   float64\n",
      " 3   mb_used   1928 non-null   float64\n",
      " 4   is_ultra  1928 non-null   int64  \n",
      "dtypes: float64(4), int64(1)\n",
      "memory usage: 90.4 KB\n"
     ]
    },
    {
     "data": {
      "text/html": [
       "<div>\n",
       "<style scoped>\n",
       "    .dataframe tbody tr th:only-of-type {\n",
       "        vertical-align: middle;\n",
       "    }\n",
       "\n",
       "    .dataframe tbody tr th {\n",
       "        vertical-align: top;\n",
       "    }\n",
       "\n",
       "    .dataframe thead th {\n",
       "        text-align: right;\n",
       "    }\n",
       "</style>\n",
       "<table border=\"1\" class=\"dataframe\">\n",
       "  <thead>\n",
       "    <tr style=\"text-align: right;\">\n",
       "      <th></th>\n",
       "      <th>calls</th>\n",
       "      <th>minutes</th>\n",
       "      <th>messages</th>\n",
       "      <th>mb_used</th>\n",
       "      <th>is_ultra</th>\n",
       "    </tr>\n",
       "  </thead>\n",
       "  <tbody>\n",
       "    <tr>\n",
       "      <th>389</th>\n",
       "      <td>118.0</td>\n",
       "      <td>908.61</td>\n",
       "      <td>54.0</td>\n",
       "      <td>29678.60</td>\n",
       "      <td>1</td>\n",
       "    </tr>\n",
       "    <tr>\n",
       "      <th>1066</th>\n",
       "      <td>90.0</td>\n",
       "      <td>653.62</td>\n",
       "      <td>0.0</td>\n",
       "      <td>15697.77</td>\n",
       "      <td>0</td>\n",
       "    </tr>\n",
       "    <tr>\n",
       "      <th>36</th>\n",
       "      <td>76.0</td>\n",
       "      <td>543.18</td>\n",
       "      <td>43.0</td>\n",
       "      <td>31845.11</td>\n",
       "      <td>1</td>\n",
       "    </tr>\n",
       "    <tr>\n",
       "      <th>1903</th>\n",
       "      <td>134.0</td>\n",
       "      <td>940.77</td>\n",
       "      <td>56.0</td>\n",
       "      <td>2921.57</td>\n",
       "      <td>1</td>\n",
       "    </tr>\n",
       "    <tr>\n",
       "      <th>1373</th>\n",
       "      <td>121.0</td>\n",
       "      <td>769.36</td>\n",
       "      <td>0.0</td>\n",
       "      <td>42437.52</td>\n",
       "      <td>1</td>\n",
       "    </tr>\n",
       "  </tbody>\n",
       "</table>\n",
       "</div>"
      ],
      "text/plain": [
       "      calls  minutes  messages   mb_used  is_ultra\n",
       "389   118.0   908.61      54.0  29678.60         1\n",
       "1066   90.0   653.62       0.0  15697.77         0\n",
       "36     76.0   543.18      43.0  31845.11         1\n",
       "1903  134.0   940.77      56.0   2921.57         1\n",
       "1373  121.0   769.36       0.0  42437.52         1"
      ]
     },
     "metadata": {},
     "output_type": "display_data"
    },
    {
     "name": "stdout",
     "output_type": "stream",
     "text": [
      "\n",
      "<class 'pandas.core.frame.DataFrame'>\n",
      "Index: 1286 entries, 1727 to 1482\n",
      "Data columns (total 5 columns):\n",
      " #   Column    Non-Null Count  Dtype  \n",
      "---  ------    --------------  -----  \n",
      " 0   calls     1286 non-null   float64\n",
      " 1   minutes   1286 non-null   float64\n",
      " 2   messages  1286 non-null   float64\n",
      " 3   mb_used   1286 non-null   float64\n",
      " 4   is_ultra  1286 non-null   int64  \n",
      "dtypes: float64(4), int64(1)\n",
      "memory usage: 60.3 KB\n"
     ]
    },
    {
     "data": {
      "text/html": [
       "<div>\n",
       "<style scoped>\n",
       "    .dataframe tbody tr th:only-of-type {\n",
       "        vertical-align: middle;\n",
       "    }\n",
       "\n",
       "    .dataframe tbody tr th {\n",
       "        vertical-align: top;\n",
       "    }\n",
       "\n",
       "    .dataframe thead th {\n",
       "        text-align: right;\n",
       "    }\n",
       "</style>\n",
       "<table border=\"1\" class=\"dataframe\">\n",
       "  <thead>\n",
       "    <tr style=\"text-align: right;\">\n",
       "      <th></th>\n",
       "      <th>calls</th>\n",
       "      <th>minutes</th>\n",
       "      <th>messages</th>\n",
       "      <th>mb_used</th>\n",
       "      <th>is_ultra</th>\n",
       "    </tr>\n",
       "  </thead>\n",
       "  <tbody>\n",
       "    <tr>\n",
       "      <th>1727</th>\n",
       "      <td>104.0</td>\n",
       "      <td>739.28</td>\n",
       "      <td>55.0</td>\n",
       "      <td>21940.11</td>\n",
       "      <td>1</td>\n",
       "    </tr>\n",
       "    <tr>\n",
       "      <th>2885</th>\n",
       "      <td>67.0</td>\n",
       "      <td>469.58</td>\n",
       "      <td>63.0</td>\n",
       "      <td>7952.07</td>\n",
       "      <td>1</td>\n",
       "    </tr>\n",
       "    <tr>\n",
       "      <th>2730</th>\n",
       "      <td>74.0</td>\n",
       "      <td>549.14</td>\n",
       "      <td>20.0</td>\n",
       "      <td>17160.61</td>\n",
       "      <td>0</td>\n",
       "    </tr>\n",
       "    <tr>\n",
       "      <th>899</th>\n",
       "      <td>31.0</td>\n",
       "      <td>205.14</td>\n",
       "      <td>22.0</td>\n",
       "      <td>10250.58</td>\n",
       "      <td>0</td>\n",
       "    </tr>\n",
       "    <tr>\n",
       "      <th>2119</th>\n",
       "      <td>26.0</td>\n",
       "      <td>172.87</td>\n",
       "      <td>16.0</td>\n",
       "      <td>6431.26</td>\n",
       "      <td>0</td>\n",
       "    </tr>\n",
       "  </tbody>\n",
       "</table>\n",
       "</div>"
      ],
      "text/plain": [
       "      calls  minutes  messages   mb_used  is_ultra\n",
       "1727  104.0   739.28      55.0  21940.11         1\n",
       "2885   67.0   469.58      63.0   7952.07         1\n",
       "2730   74.0   549.14      20.0  17160.61         0\n",
       "899    31.0   205.14      22.0  10250.58         0\n",
       "2119   26.0   172.87      16.0   6431.26         0"
      ]
     },
     "metadata": {},
     "output_type": "display_data"
    }
   ],
   "source": [
    "#Dividir el data set en validacion,prueba y entrenamiento.\n",
    "df_train, df_valid_test = train_test_split(df, test_size=0.4, random_state=54321)\n",
    "df_train.info()\n",
    "display(df_train.head())\n",
    "print()\n",
    "df_valid_test.info()\n",
    "display(df_valid_test.head())"
   ]
  },
  {
   "cell_type": "code",
   "execution_count": 47,
   "metadata": {},
   "outputs": [
    {
     "name": "stdout",
     "output_type": "stream",
     "text": [
      "<class 'pandas.core.frame.DataFrame'>\n",
      "Index: 643 entries, 98 to 977\n",
      "Data columns (total 5 columns):\n",
      " #   Column    Non-Null Count  Dtype  \n",
      "---  ------    --------------  -----  \n",
      " 0   calls     643 non-null    float64\n",
      " 1   minutes   643 non-null    float64\n",
      " 2   messages  643 non-null    float64\n",
      " 3   mb_used   643 non-null    float64\n",
      " 4   is_ultra  643 non-null    int64  \n",
      "dtypes: float64(4), int64(1)\n",
      "memory usage: 30.1 KB\n"
     ]
    },
    {
     "data": {
      "text/html": [
       "<div>\n",
       "<style scoped>\n",
       "    .dataframe tbody tr th:only-of-type {\n",
       "        vertical-align: middle;\n",
       "    }\n",
       "\n",
       "    .dataframe tbody tr th {\n",
       "        vertical-align: top;\n",
       "    }\n",
       "\n",
       "    .dataframe thead th {\n",
       "        text-align: right;\n",
       "    }\n",
       "</style>\n",
       "<table border=\"1\" class=\"dataframe\">\n",
       "  <thead>\n",
       "    <tr style=\"text-align: right;\">\n",
       "      <th></th>\n",
       "      <th>calls</th>\n",
       "      <th>minutes</th>\n",
       "      <th>messages</th>\n",
       "      <th>mb_used</th>\n",
       "      <th>is_ultra</th>\n",
       "    </tr>\n",
       "  </thead>\n",
       "  <tbody>\n",
       "    <tr>\n",
       "      <th>98</th>\n",
       "      <td>67.0</td>\n",
       "      <td>454.43</td>\n",
       "      <td>31.0</td>\n",
       "      <td>19776.50</td>\n",
       "      <td>0</td>\n",
       "    </tr>\n",
       "    <tr>\n",
       "      <th>2941</th>\n",
       "      <td>57.0</td>\n",
       "      <td>470.30</td>\n",
       "      <td>88.0</td>\n",
       "      <td>9346.00</td>\n",
       "      <td>1</td>\n",
       "    </tr>\n",
       "    <tr>\n",
       "      <th>2626</th>\n",
       "      <td>6.0</td>\n",
       "      <td>50.95</td>\n",
       "      <td>5.0</td>\n",
       "      <td>3771.34</td>\n",
       "      <td>0</td>\n",
       "    </tr>\n",
       "    <tr>\n",
       "      <th>1653</th>\n",
       "      <td>80.0</td>\n",
       "      <td>538.39</td>\n",
       "      <td>51.0</td>\n",
       "      <td>21691.46</td>\n",
       "      <td>0</td>\n",
       "    </tr>\n",
       "    <tr>\n",
       "      <th>2389</th>\n",
       "      <td>35.0</td>\n",
       "      <td>205.35</td>\n",
       "      <td>52.0</td>\n",
       "      <td>35177.94</td>\n",
       "      <td>1</td>\n",
       "    </tr>\n",
       "  </tbody>\n",
       "</table>\n",
       "</div>"
      ],
      "text/plain": [
       "      calls  minutes  messages   mb_used  is_ultra\n",
       "98     67.0   454.43      31.0  19776.50         0\n",
       "2941   57.0   470.30      88.0   9346.00         1\n",
       "2626    6.0    50.95       5.0   3771.34         0\n",
       "1653   80.0   538.39      51.0  21691.46         0\n",
       "2389   35.0   205.35      52.0  35177.94         1"
      ]
     },
     "metadata": {},
     "output_type": "display_data"
    },
    {
     "name": "stdout",
     "output_type": "stream",
     "text": [
      "\n",
      "<class 'pandas.core.frame.DataFrame'>\n",
      "Index: 643 entries, 40 to 817\n",
      "Data columns (total 5 columns):\n",
      " #   Column    Non-Null Count  Dtype  \n",
      "---  ------    --------------  -----  \n",
      " 0   calls     643 non-null    float64\n",
      " 1   minutes   643 non-null    float64\n",
      " 2   messages  643 non-null    float64\n",
      " 3   mb_used   643 non-null    float64\n",
      " 4   is_ultra  643 non-null    int64  \n",
      "dtypes: float64(4), int64(1)\n",
      "memory usage: 30.1 KB\n"
     ]
    },
    {
     "data": {
      "text/html": [
       "<div>\n",
       "<style scoped>\n",
       "    .dataframe tbody tr th:only-of-type {\n",
       "        vertical-align: middle;\n",
       "    }\n",
       "\n",
       "    .dataframe tbody tr th {\n",
       "        vertical-align: top;\n",
       "    }\n",
       "\n",
       "    .dataframe thead th {\n",
       "        text-align: right;\n",
       "    }\n",
       "</style>\n",
       "<table border=\"1\" class=\"dataframe\">\n",
       "  <thead>\n",
       "    <tr style=\"text-align: right;\">\n",
       "      <th></th>\n",
       "      <th>calls</th>\n",
       "      <th>minutes</th>\n",
       "      <th>messages</th>\n",
       "      <th>mb_used</th>\n",
       "      <th>is_ultra</th>\n",
       "    </tr>\n",
       "  </thead>\n",
       "  <tbody>\n",
       "    <tr>\n",
       "      <th>40</th>\n",
       "      <td>34.0</td>\n",
       "      <td>183.28</td>\n",
       "      <td>0.0</td>\n",
       "      <td>18631.66</td>\n",
       "      <td>0</td>\n",
       "    </tr>\n",
       "    <tr>\n",
       "      <th>2523</th>\n",
       "      <td>39.0</td>\n",
       "      <td>257.01</td>\n",
       "      <td>52.0</td>\n",
       "      <td>19450.11</td>\n",
       "      <td>0</td>\n",
       "    </tr>\n",
       "    <tr>\n",
       "      <th>1529</th>\n",
       "      <td>69.0</td>\n",
       "      <td>453.26</td>\n",
       "      <td>18.0</td>\n",
       "      <td>14427.40</td>\n",
       "      <td>0</td>\n",
       "    </tr>\n",
       "    <tr>\n",
       "      <th>2850</th>\n",
       "      <td>46.0</td>\n",
       "      <td>309.91</td>\n",
       "      <td>105.0</td>\n",
       "      <td>6444.87</td>\n",
       "      <td>0</td>\n",
       "    </tr>\n",
       "    <tr>\n",
       "      <th>1109</th>\n",
       "      <td>69.0</td>\n",
       "      <td>479.79</td>\n",
       "      <td>0.0</td>\n",
       "      <td>17559.43</td>\n",
       "      <td>0</td>\n",
       "    </tr>\n",
       "  </tbody>\n",
       "</table>\n",
       "</div>"
      ],
      "text/plain": [
       "      calls  minutes  messages   mb_used  is_ultra\n",
       "40     34.0   183.28       0.0  18631.66         0\n",
       "2523   39.0   257.01      52.0  19450.11         0\n",
       "1529   69.0   453.26      18.0  14427.40         0\n",
       "2850   46.0   309.91     105.0   6444.87         0\n",
       "1109   69.0   479.79       0.0  17559.43         0"
      ]
     },
     "metadata": {},
     "output_type": "display_data"
    }
   ],
   "source": [
    "df_valid, df_test = train_test_split(df_valid_test, test_size=0.5, random_state=54321)\n",
    "df_valid.info()\n",
    "display(df_valid.head())\n",
    "\n",
    "print()\n",
    "\n",
    "df_test.info()\n",
    "display(df_test.head())"
   ]
  },
  {
   "cell_type": "markdown",
   "metadata": {},
   "source": [
    "<div class=\"alert alert-block alert-danger\">\n",
    "<b>Comentario del revisor (1ra Iteracion)</b> <a class=“tocSkip”></a>\n",
    "\n",
    "Buen trabajo con la división! Recuerda que para fines de evaluación de los modelos entrenados se necesita dividir los datos en 3 sets: Entrenamiento, validación, y pruebas cómo indica la descripción del proyecto\n",
    "</div>"
   ]
  },
  {
   "cell_type": "markdown",
   "metadata": {},
   "source": [
    "\n",
    "<div class=\"alert alert-block alert-info\">\n",
    "<b>Respuesta del estudiante</b> <a class=“tocSkip”></a>\n",
    "\n",
    "Que tal! muchas gracias por sus comentarios, hice algunas correcciones respecto los conjuntos de entrenamiento, prueba y validacion. \n",
    "Dividí el conjunto original en 60% entrenamiento, 40% prueba y validacion.\n",
    "Despues dividí prueba y validacion a la mitad, para obtener los 3 conjuntos. \n",
    "Esta bien como lo planteé o hay otra forma?\n",
    "</div>\n"
   ]
  },
  {
   "cell_type": "markdown",
   "metadata": {},
   "source": [
    "Generar 6 diferentes datasets. \n",
    "- 2 datasets con los datos de entrenamiento. Un dataset con la columna objetivo de is_ultra y otro dataset con las demas columnnas para formar el dataset de caracteristicas. \n",
    "- 2 datasets con los datos de validacion. Un dataset con la columna objetivo de is_ultra y otro dataset con las demas columnnas para formar el dataset de caracteristicas. \n",
    "- 2 datasets con los datos de prueba. Un dataset con la columna objetivo de is_ultra y otro dataset con las demas columnnas para formar el dataset de caracteristicas."
   ]
  },
  {
   "cell_type": "code",
   "execution_count": 48,
   "metadata": {},
   "outputs": [
    {
     "name": "stdout",
     "output_type": "stream",
     "text": [
      "<class 'pandas.core.frame.DataFrame'>\n",
      "Index: 1928 entries, 389 to 2641\n",
      "Data columns (total 4 columns):\n",
      " #   Column    Non-Null Count  Dtype  \n",
      "---  ------    --------------  -----  \n",
      " 0   calls     1928 non-null   float64\n",
      " 1   minutes   1928 non-null   float64\n",
      " 2   messages  1928 non-null   float64\n",
      " 3   mb_used   1928 non-null   float64\n",
      "dtypes: float64(4)\n",
      "memory usage: 75.3 KB\n",
      "\n",
      "<class 'pandas.core.series.Series'>\n",
      "Index: 1928 entries, 389 to 2641\n",
      "Series name: is_ultra\n",
      "Non-Null Count  Dtype\n",
      "--------------  -----\n",
      "1928 non-null   int64\n",
      "dtypes: int64(1)\n",
      "memory usage: 30.1 KB\n"
     ]
    }
   ],
   "source": [
    "#CARACTERISTICAS Y OBJETIVO DE ENTRENAMIENTO\n",
    "features_train = df_train.drop('is_ultra',axis=1)\n",
    "target_train = df_train['is_ultra']\n",
    "features_train.info()\n",
    "print()\n",
    "target_train.info()"
   ]
  },
  {
   "cell_type": "code",
   "execution_count": 49,
   "metadata": {},
   "outputs": [
    {
     "name": "stdout",
     "output_type": "stream",
     "text": [
      "<class 'pandas.core.frame.DataFrame'>\n",
      "Index: 643 entries, 98 to 977\n",
      "Data columns (total 4 columns):\n",
      " #   Column    Non-Null Count  Dtype  \n",
      "---  ------    --------------  -----  \n",
      " 0   calls     643 non-null    float64\n",
      " 1   minutes   643 non-null    float64\n",
      " 2   messages  643 non-null    float64\n",
      " 3   mb_used   643 non-null    float64\n",
      "dtypes: float64(4)\n",
      "memory usage: 25.1 KB\n",
      "\n",
      "<class 'pandas.core.series.Series'>\n",
      "Index: 643 entries, 98 to 977\n",
      "Series name: is_ultra\n",
      "Non-Null Count  Dtype\n",
      "--------------  -----\n",
      "643 non-null    int64\n",
      "dtypes: int64(1)\n",
      "memory usage: 10.0 KB\n"
     ]
    }
   ],
   "source": [
    "#CARACTERISTICAS Y OBJETIVO DE VALIDACION\n",
    "features_valid = df_valid.drop('is_ultra',axis=1)\n",
    "target_valid = df_valid['is_ultra']\n",
    "features_valid.info()\n",
    "print()\n",
    "target_valid.info()"
   ]
  },
  {
   "cell_type": "code",
   "execution_count": 50,
   "metadata": {},
   "outputs": [
    {
     "name": "stdout",
     "output_type": "stream",
     "text": [
      "<class 'pandas.core.frame.DataFrame'>\n",
      "Index: 643 entries, 40 to 817\n",
      "Data columns (total 4 columns):\n",
      " #   Column    Non-Null Count  Dtype  \n",
      "---  ------    --------------  -----  \n",
      " 0   calls     643 non-null    float64\n",
      " 1   minutes   643 non-null    float64\n",
      " 2   messages  643 non-null    float64\n",
      " 3   mb_used   643 non-null    float64\n",
      "dtypes: float64(4)\n",
      "memory usage: 25.1 KB\n",
      "\n",
      "<class 'pandas.core.series.Series'>\n",
      "Index: 643 entries, 40 to 817\n",
      "Series name: is_ultra\n",
      "Non-Null Count  Dtype\n",
      "--------------  -----\n",
      "643 non-null    int64\n",
      "dtypes: int64(1)\n",
      "memory usage: 10.0 KB\n"
     ]
    }
   ],
   "source": [
    "#CARACTERISTICAS Y OBJETIVO DE PRUEBA\n",
    "features_test = df_test.drop('is_ultra',axis=1)\n",
    "target_test = df_test['is_ultra']\n",
    "features_test.info()\n",
    "print()\n",
    "target_test.info()"
   ]
  },
  {
   "cell_type": "markdown",
   "metadata": {},
   "source": [
    "ACCURACY.\n",
    "---"
   ]
  },
  {
   "cell_type": "markdown",
   "metadata": {},
   "source": [
    "Decision Tree Classifier Model. \n",
    "\n",
    "Random_state de 54321.\n",
    "Primero calcular la exactitud con una max_depth predeterminado. \n",
    "Segundo revisar que exactitud es la mejor modificando el max_depth, usaremos un rango de 1 a 10."
   ]
  },
  {
   "cell_type": "code",
   "execution_count": 51,
   "metadata": {},
   "outputs": [
    {
     "name": "stdout",
     "output_type": "stream",
     "text": [
      "Exactitud del conjunto de validacion: 0.687402799377916\n"
     ]
    }
   ],
   "source": [
    "#modelo de clasificacion de arbol\n",
    "model_tree = DecisionTreeClassifier(random_state=54321)\n",
    "model_tree.fit(features_train,target_train)\n",
    "\n",
    "#Prediccion del modelo de clasificacion con los valores de validacion\n",
    "valid_tree_prediction = model_tree.predict(features_valid)\n",
    "print('Exactitud del conjunto de validacion:', accuracy_score(target_valid,valid_tree_prediction))"
   ]
  },
  {
   "cell_type": "code",
   "execution_count": 70,
   "metadata": {},
   "outputs": [
    {
     "name": "stdout",
     "output_type": "stream",
     "text": [
      "max_depth =  1 : 0.7216174183514774\n",
      "max_depth =  2 : 0.7418351477449455\n",
      "max_depth =  3 : 0.7651632970451011\n",
      "max_depth =  4 : 0.744945567651633\n",
      "max_depth =  5 : 0.7651632970451011\n",
      "max_depth =  6 : 0.7542768273716952\n",
      "max_depth =  7 : 0.7433903576982893\n",
      "max_depth =  8 : 0.7511664074650077\n",
      "max_depth =  9 : 0.7682737169517885\n",
      "max_depth =  10 : 0.7822706065318819\n",
      "\n",
      "El modelo con la mejor exactitud  0.7822706065318819 con un max_depth =  10 \n",
      "el modelo fue: DecisionTreeClassifier(max_depth=10, random_state=54321)\n"
     ]
    }
   ],
   "source": [
    "#DECISION TREE CLASSIFIER DIFERENTES PROFUNDIDADES\n",
    "best_score_tree = 0\n",
    "for depth in range(1,11):\n",
    "    model_tree = DecisionTreeClassifier(random_state=54321 , max_depth= depth)\n",
    "    model_tree.fit(features_train , target_train)\n",
    "    valid_tree_prediction = model_tree.predict(features_valid)\n",
    "    print('max_depth = ' , depth , ': ' , end= '')\n",
    "    score_tree = accuracy_score(target_valid,valid_tree_prediction)\n",
    "    print(score_tree)\n",
    "    if score_tree > best_score_tree:\n",
    "        best_score_tree = score_tree\n",
    "        best_max_depth = depth\n",
    "        best_model_tree = model_tree\n",
    "        best_valid_tree_prediction = valid_tree_prediction\n",
    "\n",
    "print('\\nEl modelo con la mejor exactitud ', best_score_tree,'con un max_depth = ',best_max_depth,'\\nel modelo fue:',best_model_tree)\n",
    "#print(valid_tree_prediction)\n"
   ]
  },
  {
   "cell_type": "markdown",
   "metadata": {},
   "source": [
    "Podemos ver que el modelo arbol de decision con  valores predeterminados, tiene una exactitud muy baja, 68%.\n",
    "Al modificar el hipervalor de max_depth podemos ver que la exactitud mejora a una 78%, esta con una profundidad de 10.\n",
    "Estamos arriba del 75%, hay que seguir revisando los otros modelos para llegar a una conclusion."
   ]
  },
  {
   "cell_type": "markdown",
   "metadata": {},
   "source": [
    "RANDOM FOREST CLASSIFER MODEL.\n",
    "\n",
    "Trabajaremos en esta seccion con el modelo bosque aleatorio, utilizando de igualforma el random state de 54321 y un numero de arboles de 3. \n",
    "Despues revisar con diferentes valores de numero de arboles para comparar que valor de n_estimators nos da una mejor exactitud. "
   ]
  },
  {
   "cell_type": "code",
   "execution_count": 71,
   "metadata": {},
   "outputs": [
    {
     "name": "stdout",
     "output_type": "stream",
     "text": [
      "Exactitud del conjunto de validacion: 0.7293934681181959\n"
     ]
    }
   ],
   "source": [
    "#modelo de clasificacion de bosque\n",
    "model_forest = RandomForestClassifier(random_state= 54321 , n_estimators=3)\n",
    "model_forest.fit(features_train , target_train)\n",
    "valid_forest_prediction = model_forest.predict(features_valid)\n",
    "#Predicciones del modelo de bosque \n",
    "print('Exactitud del conjunto de validacion:', model_forest.score(features_valid , target_valid))"
   ]
  },
  {
   "cell_type": "code",
   "execution_count": 74,
   "metadata": {},
   "outputs": [
    {
     "name": "stdout",
     "output_type": "stream",
     "text": [
      "n_estimators =  1 : Con la exactitud 0.6780715396578538\n",
      "n_estimators =  2 : Con la exactitud 0.7247278382581649\n",
      "n_estimators =  3 : Con la exactitud 0.7293934681181959\n",
      "n_estimators =  4 : Con la exactitud 0.7356143079315708\n",
      "n_estimators =  5 : Con la exactitud 0.7293934681181959\n",
      "n_estimators =  6 : Con la exactitud 0.7465007776049767\n",
      "n_estimators =  7 : Con la exactitud 0.7325038880248833\n",
      "n_estimators =  8 : Con la exactitud 0.7573872472783826\n",
      "n_estimators =  9 : Con la exactitud 0.7620528771384136\n",
      "n_estimators =  10 : Con la exactitud 0.7698289269051322\n",
      "n_estimators =  11 : Con la exactitud 0.7651632970451011\n",
      "n_estimators =  12 : Con la exactitud 0.7698289269051322\n",
      "n_estimators =  13 : Con la exactitud 0.7682737169517885\n",
      "n_estimators =  14 : Con la exactitud 0.7729393468118196\n",
      "n_estimators =  15 : Con la exactitud 0.7636080870917574\n",
      "n_estimators =  16 : Con la exactitud 0.7744945567651633\n",
      "n_estimators =  17 : Con la exactitud 0.7729393468118196\n",
      "n_estimators =  18 : Con la exactitud 0.7744945567651633\n",
      "n_estimators =  19 : Con la exactitud 0.7698289269051322\n",
      "\n",
      "La mejor exactitud es de 0.7744945567651633 con (n_estimators = 16)\n"
     ]
    }
   ],
   "source": [
    "best_score_forest = 0\n",
    "best_est_forest = 0\n",
    "for est in range (1,20):\n",
    "    model_forest = RandomForestClassifier(random_state=54321 , n_estimators= est)\n",
    "    model_forest.fit(features_train , target_train)\n",
    "    print('n_estimators = ' , est , ': ' , end= '')\n",
    "    score_forest = model_forest.score(features_valid , target_valid)\n",
    "    print('Con la exactitud',score_forest)\n",
    "    if best_score_forest < score_forest:\n",
    "        best_score_forest = score_forest\n",
    "        best_est_forest = est\n",
    "\n",
    "print('\\nLa mejor exactitud es de {} con (n_estimators = {})'.format(best_score_forest,best_est_forest))"
   ]
  },
  {
   "cell_type": "markdown",
   "metadata": {},
   "source": [
    "El modelo con n_estimators de 16 tuvo la mejor exactitud, 77.4%. Podemos que hay mucha variacion dentro de las predicciones ya que la exactitud varia mucho. \n",
    "Al llegar a los 9 arboles la exactitud se estanca un poco, para despues en 16 arboles volver a estabilizarse, pero notemos que al tener 18 arboles la exactitud es la misma que 16 arboles."
   ]
  },
  {
   "cell_type": "markdown",
   "metadata": {},
   "source": [
    "REGRESION LOGISTICA. \n",
    "\n",
    "Detro de la regresión logistica igualmente utilizaremos el random state de 54321. \n",
    "Calificaremos la exactitud utilizando el conjunto de valores tanto de entrenamiento como de validacion. "
   ]
  },
  {
   "cell_type": "code",
   "execution_count": 76,
   "metadata": {},
   "outputs": [
    {
     "name": "stdout",
     "output_type": "stream",
     "text": [
      "La exactitud del modelo de regresion logistica en el conjunto de entrenamiento 0.7131742738589212\n",
      "La exactitud del modelo de regresion logistica en el conjunto de validacion 0.6780715396578538\n"
     ]
    }
   ],
   "source": [
    "model_regression= LogisticRegression(random_state= 54321 , solver='liblinear')\n",
    "model_regression.fit(features_train,target_train)\n",
    "score_train_regression = model_regression.score(features_train,target_train)\n",
    "score_valid_regression = model_regression.score(features_valid,target_valid)\n",
    "\n",
    "print('La exactitud del modelo de regresion logistica en el conjunto de entrenamiento', score_train_regression)\n",
    "print('La exactitud del modelo de regresion logistica en el conjunto de validacion', score_valid_regression)"
   ]
  },
  {
   "cell_type": "markdown",
   "metadata": {},
   "source": [
    "Podemos ver una exactitud muy baja de en este modelo, sin embargo, revisemos el error cuadratico de los modelos para poder eleguir uno de manera correcta. "
   ]
  },
  {
   "cell_type": "markdown",
   "metadata": {},
   "source": [
    "F1_SCORE\n",
    "---\n",
    "Métrica utilizada para evaluar la precisión de un modelo de clasificación. Es la media armónica de la precisión y la recuperación.\n",
    "- 0.9 - 1.0: Excelente\n",
    "- 0.8 - 0.9: Muy bueno\n",
    "- 0.7 - 0.8: Bueno\n",
    "- 0.6 - 0.7: Aceptable\n",
    "- 0.5 - 0.6: Regular\n",
    "- < 0.5: Pobre"
   ]
  },
  {
   "cell_type": "code",
   "execution_count": 87,
   "metadata": {},
   "outputs": [
    {
     "name": "stdout",
     "output_type": "stream",
     "text": [
      "max_depth =  1 : f1_tree 0.3848797250859107\n",
      "max_depth =  2 : f1_tree 0.5088757396449705\n",
      "max_depth =  3 : f1_tree 0.5722379603399433\n",
      "max_depth =  4 : f1_tree 0.4605263157894737\n",
      "max_depth =  5 : f1_tree 0.5438066465256798\n",
      "max_depth =  6 : f1_tree 0.5182926829268293\n",
      "max_depth =  7 : f1_tree 0.4954128440366973\n",
      "max_depth =  8 : f1_tree 0.5402298850574713\n",
      "max_depth =  9 : f1_tree 0.5983827493261455\n",
      "max_depth =  10 : f1_tree 0.6256684491978609\n",
      "max_depth =  11 : f1_tree 0.6096256684491979\n",
      "max_depth =  12 : f1_tree 0.5736842105263158\n",
      "max_depth =  13 : f1_tree 0.5778894472361809\n",
      "max_depth =  14 : f1_tree 0.5812807881773399\n",
      "\n",
      "The model with the best f1_score was:\n",
      " DecisionTreeRegressor(max_depth=10, random_state=54321) \n",
      "with a f1_score of :  0.6256684491978609\n"
     ]
    }
   ],
   "source": [
    "#DECISION TREE REGRESSOR. f1_Score\n",
    "best_f1_tree = 0\n",
    "best_f1_depth = 0\n",
    "for depth in range(1,15):\n",
    "    model_tree_f1 = DecisionTreeClassifier(random_state=54321 , max_depth= depth)\n",
    "    model_tree_f1.fit(features_train, target_train)\n",
    "    valid_tree_prediction_f1 = model_tree_f1.predict(features_valid)\n",
    "    print('max_depth = ' , depth , ': ' , end= '')\n",
    "    f1_tree = f1_score(target_valid, valid_tree_prediction_f1)\n",
    "    print('f1_tree',f1_tree)\n",
    "    if best_f1_tree < f1_tree:\n",
    "        best_model_tree = model_tree_regressor\n",
    "        best_f1_tree = f1_tree\n",
    "        best_f1_depth = depth\n",
    "\n",
    "print('\\nThe model with the best f1_score was:\\n',best_model_tree,'\\nwith a f1_score of : ' , best_f1_tree) \n"
   ]
  },
  {
   "cell_type": "markdown",
   "metadata": {},
   "source": [
    "En el modelo arbol de decision tnemos un f1_score aceptable con 0.625. \n",
    "Podemos ver un brinco muy grande de usar 1 solo nivel de profundidad a 2, ya de tener un f1_score de 0.3 es un muy bajo. Subir a 2 niveles de profundidad ayudo considerablemente a nuestro modelo. "
   ]
  },
  {
   "cell_type": "code",
   "execution_count": 104,
   "metadata": {},
   "outputs": [
    {
     "name": "stdout",
     "output_type": "stream",
     "text": [
      "n_estimators =  1 :  : f1_forest 0.5059665871121718\n",
      "n_estimators =  2 :  : f1_forest 0.5014084507042254\n",
      "n_estimators =  3 :  : f1_forest 0.5714285714285714\n",
      "n_estimators =  4 :  : f1_forest 0.5251396648044693\n",
      "n_estimators =  5 :  : f1_forest 0.5606060606060606\n",
      "n_estimators =  6 :  : f1_forest 0.5434173669467787\n",
      "n_estimators =  7 :  : f1_forest 0.5520833333333334\n",
      "n_estimators =  8 :  : f1_forest 0.5617977528089888\n",
      "n_estimators =  9 :  : f1_forest 0.5941644562334217\n",
      "n_estimators =  10 :  : f1_forest 0.5888888888888889\n",
      "n_estimators =  11 :  : f1_forest 0.6015831134564644\n",
      "n_estimators =  12 :  : f1_forest 0.5934065934065934\n",
      "n_estimators =  13 :  : f1_forest 0.6089238845144357\n",
      "n_estimators =  14 :  : f1_forest 0.6054054054054054\n",
      "n_estimators =  15 :  : f1_forest 0.6\n",
      "n_estimators =  16 :  : f1_forest 0.6070460704607046\n",
      "n_estimators =  17 :  : f1_forest 0.6178010471204188\n",
      "n_estimators =  18 :  : f1_forest 0.6070460704607046\n",
      "n_estimators =  19 :  : f1_forest 0.6145833333333334\n",
      "\n",
      "El mejor f1_score 0.6178010471204188 se obtuvo con (n_estimators = 17)\n"
     ]
    }
   ],
   "source": [
    "#DECISION TREE CLASSIFIER. F1_SCORE\n",
    "best_f1_forest = 0\n",
    "best_f1_est = 0\n",
    "for est in range(1,20):\n",
    "\n",
    "    model_forest_f1 = RandomForestClassifier(random_state=54321 , n_estimators=est)\n",
    "    model_forest_f1.fit(features_train, target_train)\n",
    "    valid_forest_prediction_f1 = model_forest_f1.predict(features_valid)\n",
    "    print('n_estimators = ' , est , ': ' , ': ' ,end= '')\n",
    "    f1_forest = f1_score(target_valid, valid_forest_prediction_f1)\n",
    "    print('f1_forest',f1_forest)\n",
    "    if best_f1_forest < f1_forest:\n",
    "        best_f1_model_forest = model_forest_f1\n",
    "        best_f1_forest = f1_forest\n",
    "        best_f1_est = est\n",
    "\n",
    "print('\\nEl mejor f1_score {} se obtuvo con (n_estimators = {})'.format(best_f1_forest,best_f1_est))"
   ]
  },
  {
   "cell_type": "markdown",
   "metadata": {},
   "source": [
    "Podemos ver que usando 13 arboles en el modelo bosque aleatorio, el f1_score tiene un 0.608. Es decir, tiene una precisión aceptable. \n",
    "Sin embargo, podemos que el f1_score no mejora mas alla del 0.61, que fue el f1_score mas alto con 17 arboles."
   ]
  },
  {
   "cell_type": "code",
   "execution_count": 107,
   "metadata": {},
   "outputs": [
    {
     "name": "stdout",
     "output_type": "stream",
     "text": [
      "n_estimators =  10 :  max_depth =  1 : f1_forest 0.37800687285223367\n",
      "n_estimators =  10 :  max_depth =  2 : f1_forest 0.5075528700906344\n",
      "n_estimators =  10 :  max_depth =  3 : f1_forest 0.5060975609756098\n",
      "n_estimators =  10 :  max_depth =  4 : f1_forest 0.6123595505617978\n",
      "n_estimators =  10 :  max_depth =  5 : f1_forest 0.6050420168067226\n",
      "n_estimators =  10 :  max_depth =  6 : f1_forest 0.6017191977077364\n",
      "n_estimators =  10 :  max_depth =  7 : f1_forest 0.6046511627906976\n",
      "n_estimators =  10 :  max_depth =  8 : f1_forest 0.6366197183098592\n",
      "n_estimators =  10 :  max_depth =  9 : f1_forest 0.6204986149584487\n",
      "n_estimators =  10 :  max_depth =  10 : f1_forest 0.6520547945205479\n",
      "n_estimators =  10 :  max_depth =  11 : f1_forest 0.6118980169971672\n",
      "n_estimators =  10 :  max_depth =  12 : f1_forest 0.6016713091922006\n",
      "n_estimators =  10 :  max_depth =  13 : f1_forest 0.6318681318681318\n",
      "n_estimators =  10 :  max_depth =  14 : f1_forest 0.5994550408719346\n",
      "n_estimators =  10 :  max_depth =  15 : f1_forest 0.6036745406824147\n",
      "n_estimators =  10 :  max_depth =  16 : f1_forest 0.6042780748663101\n",
      "n_estimators =  10 :  max_depth =  17 : f1_forest 0.624\n",
      "n_estimators =  10 :  max_depth =  18 : f1_forest 0.6026666666666667\n",
      "n_estimators =  10 :  max_depth =  19 : f1_forest 0.6058981233243967\n",
      "n_estimators =  20 :  max_depth =  1 : f1_forest 0.3344947735191638\n",
      "n_estimators =  20 :  max_depth =  2 : f1_forest 0.4276315789473684\n",
      "n_estimators =  20 :  max_depth =  3 : f1_forest 0.5689149560117303\n",
      "n_estimators =  20 :  max_depth =  4 : f1_forest 0.5982905982905983\n",
      "n_estimators =  20 :  max_depth =  5 : f1_forest 0.5919540229885057\n",
      "n_estimators =  20 :  max_depth =  6 : f1_forest 0.5847953216374269\n",
      "n_estimators =  20 :  max_depth =  7 : f1_forest 0.5906432748538012\n",
      "n_estimators =  20 :  max_depth =  8 : f1_forest 0.6096866096866097\n",
      "n_estimators =  20 :  max_depth =  9 : f1_forest 0.6260387811634349\n",
      "n_estimators =  20 :  max_depth =  10 : f1_forest 0.6225895316804407\n",
      "n_estimators =  20 :  max_depth =  11 : f1_forest 0.6089385474860335\n",
      "n_estimators =  20 :  max_depth =  12 : f1_forest 0.6204986149584487\n",
      "n_estimators =  20 :  max_depth =  13 : f1_forest 0.6358695652173914\n",
      "n_estimators =  20 :  max_depth =  14 : f1_forest 0.6312997347480106\n",
      "n_estimators =  20 :  max_depth =  15 : f1_forest 0.6096256684491979\n",
      "n_estimators =  20 :  max_depth =  16 : f1_forest 0.6096256684491979\n",
      "n_estimators =  20 :  max_depth =  17 : f1_forest 0.6219839142091153\n",
      "n_estimators =  20 :  max_depth =  18 : f1_forest 0.5935828877005348\n",
      "n_estimators =  20 :  max_depth =  19 : f1_forest 0.6133333333333333\n",
      "n_estimators =  30 :  max_depth =  1 : f1_forest 0.3298245614035088\n",
      "n_estimators =  30 :  max_depth =  2 : f1_forest 0.4891640866873065\n",
      "n_estimators =  30 :  max_depth =  3 : f1_forest 0.5588235294117647\n",
      "n_estimators =  30 :  max_depth =  4 : f1_forest 0.5919540229885057\n",
      "n_estimators =  30 :  max_depth =  5 : f1_forest 0.5919540229885057\n",
      "n_estimators =  30 :  max_depth =  6 : f1_forest 0.5971014492753624\n",
      "n_estimators =  30 :  max_depth =  7 : f1_forest 0.5895953757225434\n",
      "n_estimators =  30 :  max_depth =  8 : f1_forest 0.6017191977077364\n",
      "n_estimators =  30 :  max_depth =  9 : f1_forest 0.6277777777777778\n",
      "n_estimators =  30 :  max_depth =  10 : f1_forest 0.6260387811634349\n",
      "n_estimators =  30 :  max_depth =  11 : f1_forest 0.6295264623955432\n",
      "n_estimators =  30 :  max_depth =  12 : f1_forest 0.6089385474860335\n",
      "n_estimators =  30 :  max_depth =  13 : f1_forest 0.6195652173913043\n",
      "n_estimators =  30 :  max_depth =  14 : f1_forest 0.6206896551724138\n",
      "n_estimators =  30 :  max_depth =  15 : f1_forest 0.6210526315789474\n",
      "n_estimators =  30 :  max_depth =  16 : f1_forest 0.6129032258064516\n",
      "n_estimators =  30 :  max_depth =  17 : f1_forest 0.631578947368421\n",
      "n_estimators =  30 :  max_depth =  18 : f1_forest 0.5978835978835979\n",
      "n_estimators =  30 :  max_depth =  19 : f1_forest 0.6243386243386243\n",
      "n_estimators =  40 :  max_depth =  1 : f1_forest 0.3344947735191638\n",
      "n_estimators =  40 :  max_depth =  2 : f1_forest 0.46006389776357826\n",
      "n_estimators =  40 :  max_depth =  3 : f1_forest 0.5588235294117647\n",
      "n_estimators =  40 :  max_depth =  4 : f1_forest 0.5862068965517241\n",
      "n_estimators =  40 :  max_depth =  5 : f1_forest 0.5959885386819485\n",
      "n_estimators =  40 :  max_depth =  6 : f1_forest 0.6011560693641619\n",
      "n_estimators =  40 :  max_depth =  7 : f1_forest 0.5953757225433526\n",
      "n_estimators =  40 :  max_depth =  8 : f1_forest 0.6096866096866097\n",
      "n_estimators =  40 :  max_depth =  9 : f1_forest 0.6277777777777778\n",
      "n_estimators =  40 :  max_depth =  10 : f1_forest 0.6298342541436464\n",
      "n_estimators =  40 :  max_depth =  11 : f1_forest 0.6166666666666667\n",
      "n_estimators =  40 :  max_depth =  12 : f1_forest 0.6260387811634349\n",
      "n_estimators =  40 :  max_depth =  13 : f1_forest 0.6191780821917808\n",
      "n_estimators =  40 :  max_depth =  14 : f1_forest 0.624\n",
      "n_estimators =  40 :  max_depth =  15 : f1_forest 0.6243386243386243\n",
      "n_estimators =  40 :  max_depth =  16 : f1_forest 0.6219839142091153\n",
      "n_estimators =  40 :  max_depth =  17 : f1_forest 0.6243386243386243\n",
      "n_estimators =  40 :  max_depth =  18 : f1_forest 0.6133333333333333\n",
      "n_estimators =  40 :  max_depth =  19 : f1_forest 0.6206896551724138\n",
      "\n",
      "El mejor f1_score 0.6520547945205479 se obtuvo con (n_estimators = 10) y (max_depth = 10)\n"
     ]
    }
   ],
   "source": [
    "#DECISION TREE CLASSIFIER. F1_SCORE\n",
    "best_f1_forest_2 = 0\n",
    "best_f1_est_2 = 0\n",
    "for est_2 in range(10,50,10):\n",
    "    for depth_f1_2 in range(1,20):\n",
    "        model_forest_f1_2 = RandomForestClassifier(random_state=54321 , n_estimators=est_2, max_depth=depth_f1_2)\n",
    "        model_forest_f1_2.fit(features_train, target_train)\n",
    "        valid_forest_prediction_f1_2 = model_forest_f1_2.predict(features_valid)\n",
    "        print('n_estimators = ' , est_2 , ': ' , 'max_depth = ' , depth_f1_2 , ': ' ,end= '')\n",
    "        f1_forest_2 = f1_score(target_valid, valid_forest_prediction_f1_2)\n",
    "        print('f1_forest',f1_forest_2)\n",
    "        if best_f1_forest_2 < f1_forest_2:\n",
    "            best_f1_model_forest_2 = model_forest_f1_2\n",
    "            best_f1_forest_2 = f1_forest_2\n",
    "            best_f1_est_2 = est_2\n",
    "            best_f1_depth_2 = depth_f1_2\n",
    "\n",
    "print('\\nEl mejor f1_score {} se obtuvo con (n_estimators = {}) y (max_depth = {})'.format(best_f1_forest_2,best_f1_est_2,best_f1_depth_2))"
   ]
  },
  {
   "cell_type": "markdown",
   "metadata": {},
   "source": [
    "Agregando los hipervalores de numero de estimadores y maxima profundidad, podemos ver que tenemos un valor aceptable de 0.65 con 10 arboles y una profundidad de 10.\n",
    "Intentemos con regresion logica para ver si tenemos una mejora. "
   ]
  },
  {
   "cell_type": "code",
   "execution_count": 100,
   "metadata": {},
   "outputs": [
    {
     "name": "stdout",
     "output_type": "stream",
     "text": [
      "El f1_Score del modelo de regresion logistica en el conjunto de validacion 0.16194331983805668\n"
     ]
    }
   ],
   "source": [
    "#LOGISTIC REGRESSION. F1_SCORE\n",
    "\n",
    "model_logistic_f1 = LogisticRegression(random_state= 54321 , solver='liblinear')\n",
    "model_logistic_f1.fit(features_train, target_train)\n",
    "\n",
    "valid_logistic_prediction_f1 = model_logistic_f1.predict(features_valid)\n",
    "\n",
    "f1_score_v = f1_score(target_valid,valid_logistic_prediction_f1)\n",
    "\n",
    "print('El f1_Score del modelo de regresion logistica en el conjunto de validacion', f1_score_v)"
   ]
  },
  {
   "cell_type": "markdown",
   "metadata": {},
   "source": [
    "Se obtuvo un valor de f1_score muy pobre con 0.16, por lo que la precision de este modelo no es nada aceptable. "
   ]
  },
  {
   "cell_type": "markdown",
   "metadata": {},
   "source": [
    "ERROR CUADRATICO MEDIO\n",
    "---"
   ]
  },
  {
   "cell_type": "markdown",
   "metadata": {},
   "source": [
    "Vamos a revisar el error medio cuadratico (EMC) de cada uno de los modelos para elegir el mejor. "
   ]
  },
  {
   "cell_type": "code",
   "execution_count": 56,
   "metadata": {},
   "outputs": [
    {
     "name": "stdout",
     "output_type": "stream",
     "text": [
      "(2410, 4)\n",
      "(804, 4)\n",
      "(2410,)\n",
      "(804,)\n"
     ]
    }
   ],
   "source": [
    "# Declaracion para el RECM. \n",
    "features = df.drop(['is_ultra'],axis=1)\n",
    "target = df['is_ultra']\n",
    "features_train_ecm , features_valid_ecm , target_train_ecm, target_valid_ecm = train_test_split(features, target,test_size=0.25,random_state=54321)\n",
    "print(features_train_ecm.shape)\n",
    "print(features_valid_ecm.shape)\n",
    "print(target_train_ecm.shape)\n",
    "print(target_valid_ecm.shape)\n"
   ]
  },
  {
   "cell_type": "code",
   "execution_count": 57,
   "metadata": {},
   "outputs": [
    {
     "name": "stdout",
     "output_type": "stream",
     "text": [
      "El RECM en base al promedio de los valores de target es ->  0.46102797293043907\n"
     ]
    }
   ],
   "source": [
    "#Prueba de cordura\n",
    "predictions_cordura = pd.Series(target.mean(),index=target.index)\n",
    "mse = mean_squared_error(target,predictions_cordura)\n",
    "rmse = mse ** 0.5\n",
    "print('El RECM en base al promedio de los valores de target es -> ',rmse)"
   ]
  },
  {
   "cell_type": "code",
   "execution_count": 58,
   "metadata": {},
   "outputs": [
    {
     "name": "stdout",
     "output_type": "stream",
     "text": [
      "max_depth =  1 : RECM 0.44098405178305866\n",
      "max_depth =  2 : RECM 0.41935202725776616\n",
      "max_depth =  3 : RECM 0.40919632941340167\n",
      "max_depth =  4 : RECM 0.404940364204513\n",
      "max_depth =  5 : RECM 0.40033089897845153\n",
      "max_depth =  6 : RECM 0.39920585182877466\n",
      "max_depth =  7 : RECM 0.4051436635073566\n",
      "max_depth =  8 : RECM 0.4038884724633892\n",
      "max_depth =  9 : RECM 0.4063362159345581\n",
      "max_depth =  10 : RECM 0.4107715233752954\n",
      "\n",
      "The model with the best RECM was:\n",
      " DecisionTreeRegressor(max_depth=6, random_state=54321) \n",
      "with a RECM of :  0.39920585182877466\n"
     ]
    }
   ],
   "source": [
    "#DECISION TREE REGRESSOR. RECM\n",
    "best_RECM_tree = 10000\n",
    "best_depth = 0\n",
    "for depth in range(1,11):\n",
    "    model_tree_regressor = DecisionTreeRegressor(random_state=54321 , max_depth= depth)\n",
    "    model_tree_regressor.fit(features_train_ecm , target_train_ecm)\n",
    "    valid_tree_prediction_ecm = model_tree_regressor.predict(features_valid_ecm)\n",
    "    print('max_depth = ' , depth , ': ' , end= '')\n",
    "    RECM_tree = mean_squared_error(target_valid_ecm, valid_tree_prediction_ecm) ** 0.5\n",
    "    print('RECM',RECM_tree)\n",
    "    if RECM_tree < best_RECM_tree:\n",
    "        best_model_tree = model_tree_regressor\n",
    "        best_RECM_tree = RECM_tree\n",
    "\n",
    "print('\\nThe model with the best RECM was:\\n',best_model_tree,'\\nwith a RECM of : ' , best_RECM_tree)\n"
   ]
  },
  {
   "cell_type": "markdown",
   "metadata": {},
   "source": [
    "Al analizar el Error Medio Cuadratico del modelo del árbol de desición de regresión, el modelo que mejor responde es el que tiene la profundidad de 6, con un 0.399 de RECM.\n",
    "Este resultado es mejor que el RECM en la prueba de cordura.  "
   ]
  },
  {
   "cell_type": "code",
   "execution_count": 59,
   "metadata": {},
   "outputs": [
    {
     "name": "stdout",
     "output_type": "stream",
     "text": [
      "\n",
      "El RECM es 0.43030643644756944 con el numero de arboles de 10 y una profundidad de :  1\n",
      "El RECM es 0.4159120698914129 con el numero de arboles de 10 y una profundidad de :  2\n",
      "El RECM es 0.4076383317865406 con el numero de arboles de 10 y una profundidad de :  3\n",
      "El RECM es 0.3987678217072082 con el numero de arboles de 10 y una profundidad de :  4\n",
      "El RECM es 0.39395586231233054 con el numero de arboles de 10 y una profundidad de :  5\n",
      "El RECM es 0.3894803800929814 con el numero de arboles de 10 y una profundidad de :  6\n",
      "El RECM es 0.3892000351356857 con el numero de arboles de 10 y una profundidad de :  7\n",
      "El RECM es 0.3851956570606119 con el numero de arboles de 10 y una profundidad de :  8\n",
      "El RECM es 0.3869745634090257 con el numero de arboles de 10 y una profundidad de :  9\n",
      "El RECM es 0.3876881630086166 con el numero de arboles de 10 y una profundidad de :  10\n",
      "\n",
      "El RECM es 0.43162530291565276 con el numero de arboles de 20 y una profundidad de :  1\n",
      "El RECM es 0.4150566324763324 con el numero de arboles de 20 y una profundidad de :  2\n",
      "El RECM es 0.40722976318703585 con el numero de arboles de 20 y una profundidad de :  3\n",
      "El RECM es 0.39713686006673493 con el numero de arboles de 20 y una profundidad de :  4\n",
      "El RECM es 0.3925001601858152 con el numero de arboles de 20 y una profundidad de :  5\n",
      "El RECM es 0.388668812972288 con el numero de arboles de 20 y una profundidad de :  6\n",
      "El RECM es 0.38760520956978123 con el numero de arboles de 20 y una profundidad de :  7\n",
      "El RECM es 0.3842480274520498 con el numero de arboles de 20 y una profundidad de :  8\n",
      "El RECM es 0.3838275787804249 con el numero de arboles de 20 y una profundidad de :  9\n",
      "El RECM es 0.38607866972757565 con el numero de arboles de 20 y una profundidad de :  10\n",
      "\n",
      "El mejor RECM 0.3838275787804249 se obtuvo con (n_estimators = 20) y (max_depth = 9)\n"
     ]
    }
   ],
   "source": [
    "#Bosque aleatorio de regresion. RECM.\n",
    "best_RECM_forest = 10000\n",
    "best_est_forest = 0\n",
    "best_depth_forest = 0\n",
    "for est in range (10,30,10):\n",
    "    print()\n",
    "    for depth in range(1 , 11):\n",
    "        model_forest_regressor = RandomForestRegressor(random_state=54321 , n_estimators= est , max_depth=depth)\n",
    "        model_forest_regressor.fit(features_train_ecm , target_train_ecm)\n",
    "        valid_forest_prediction_ecm = model_forest_regressor.predict(features_valid_ecm)\n",
    "        RECM_forest = mean_squared_error(target_valid_ecm, valid_forest_prediction_ecm)**0.5\n",
    "        print('El RECM es',RECM_forest, 'con el numero de arboles de',est,'y una profundidad de : ',depth)\n",
    "        if RECM_forest < best_RECM_forest:\n",
    "            best_RECM_forest = RECM_forest\n",
    "            best_est_forest = est\n",
    "            best_model_forest = model_forest_regressor\n",
    "            best_max_depth_forest = depth\n",
    "         \n",
    "\n",
    "print('\\nEl mejor RECM {} se obtuvo con (n_estimators = {}) y (max_depth = {})'.format(best_RECM_forest,best_est_forest,best_max_depth_forest))"
   ]
  },
  {
   "cell_type": "markdown",
   "metadata": {},
   "source": [
    "Despues de hacer varias pruebas de diferentes rangos, se puede ver  que para el modelo Bosque aleatorio los mejores hipervalores son (n_estimators = 20) y (max_depth = 9), con un 0.3838 de RECM. \n",
    "Podemos ver que despues del .38 ya no hay tanta mejora, pero al varias el sistema podemos ver una pequeña variacion que nos puede beneficiar. \n",
    "Este modelo tuvo una mejora en comparacion con la prueba de cordura y el modelo arbol de desicion. "
   ]
  },
  {
   "cell_type": "code",
   "execution_count": 60,
   "metadata": {},
   "outputs": [
    {
     "name": "stdout",
     "output_type": "stream",
     "text": [
      "RECM del modelo de regresion lineal en el conjunto de validacion 0.45504947446604305\n"
     ]
    }
   ],
   "source": [
    "#Modelo de Regresion Lineal \n",
    "model_linel = LinearRegression()\n",
    "model_linel.fit(features_train_ecm,target_train_ecm)\n",
    "prediction_lineal_valid_ecm = model_linel.predict(features_valid_ecm)\n",
    "RECM_linel = mean_squared_error(target_valid_ecm,prediction_lineal_valid_ecm)**0.5\n",
    "\n",
    "print('RECM del modelo de regresion lineal en el conjunto de validacion',RECM_linel)"
   ]
  },
  {
   "cell_type": "markdown",
   "metadata": {},
   "source": [
    "<div class=\"alert alert-block alert-danger\">\n",
    "<b>Comentario del revisor (1ra Iteracion)</b> <a class=“tocSkip”></a>\n",
    "\n",
    "El problema presentado para este proyecto es uno de clasificación, por lo que la evaluación mediante `mean_squared_error` no es la adecuada para este caso. Te recomiendo revisar los modelos de clasificación y las métricas cómo el accuracy, confusion matrix, o el f1-score para evaluarlos.\n",
    "</div>"
   ]
  },
  {
   "cell_type": "markdown",
   "metadata": {},
   "source": [
    "<div class=\"alert alert-block alert-info\">\n",
    "<b>Comentario del estudiante</b> <a class=“tocSkip”></a>\n",
    "Hice unos cambios y agregué el metodo de f1_score.\n",
    "\n",
    "</div>"
   ]
  },
  {
   "cell_type": "markdown",
   "metadata": {},
   "source": [
    "De nuevo, podemos ver que no es el mejor modelo en comparacion a los otros 2, esta por debajo de la prueba de cordura.\n",
    "Sin embargo, el RECM es muy alto en comparacion al modelo bosque aleatorio. "
   ]
  },
  {
   "cell_type": "markdown",
   "metadata": {},
   "source": [
    "SELECCIÓN DE MODELO FINAL Y CONCLUSIONES\n",
    "---"
   ]
  },
  {
   "cell_type": "markdown",
   "metadata": {},
   "source": [
    "De acurdo con las pruebas anteriores, el mejor modelo a trabajar para determinar que plan es el utilizado y cual es el mas recomendable dependiendo el uso de datos, llamadas y mensajes, es el Bosque Aleatorio. \n",
    "Esto es por su buena exactitud utilizando un numero de arboles de 7.\n",
    "Utilizando el conjunto de prueba con el modelo final podemos concluir que este modelo nos da respuestas una exactitud del 97%  "
   ]
  },
  {
   "cell_type": "code",
   "execution_count": 109,
   "metadata": {},
   "outputs": [
    {
     "name": "stdout",
     "output_type": "stream",
     "text": [
      "La exactitud obtenida con el modelo de bosque aleatorio con 7 arboles es: 0.9720062208398134\n"
     ]
    }
   ],
   "source": [
    "#Usando el conjunto de prueba \n",
    "final_model = RandomForestClassifier(random_state=54321,n_estimators=10)\n",
    "final_model.fit(features_test,target_test)\n",
    "\n",
    "predictions_final = final_model.predict(features_test)\n",
    "#score = final_model.score(features_test,target_test)\n",
    "score = accuracy_score(target_test,predictions_final)\n",
    "\n",
    "print('La exactitud obtenida con el modelo de bosque aleatorio con 7 arboles es:',score)"
   ]
  },
  {
   "cell_type": "markdown",
   "metadata": {},
   "source": [
    "<div class=\"alert alert-block alert-info\">\n",
    "<b>Comentario general (1ra Iteracion)</b> <a class=“tocSkip”></a>\n",
    "\n",
    "Jimena vas por buen camino! Pero hay que identificar el problema que se desea resolver para poder escoger que modelos entrenar, el modelo de LogisticRegression, y RandomForestClassifier está muy bien para este caso ya que la columna o el target que se requiere predecir es un 1 o 0 que indica si es ultra o no.\n",
    "    \n",
    "El modelo de regresión que entrenaste es mejor para casos donde se requieren predecir valores continuos cómo precios, ganancias, etc. Estos son los puntos que te invito a revisar para tu siguiente iteración:\n",
    " \n",
    "- Dividir tu dataset en 3, uno para entrenamiento, otro para pruebas y finalmente otro para evaluación.\n",
    "- Sobre el dataset de evaluación es sobre el cual harás tus últimas evaluaciones del modelo para verificar que cumplan con el umbral descrito para este proyecto\n",
    "- Hay que identificar cuando se trata de un problema de clasificación o de regresión para escoger el modelo y las métricas a utilizar\n",
    "\n",
    "Saludos!\n",
    "</div>"
   ]
  },
  {
   "cell_type": "markdown",
   "metadata": {},
   "source": [
    "<div class=\"alert alert-block alert-info\">\n",
    "<b>Comentario del estudiante</b> <a class=“tocSkip”></a>\n",
    "\n",
    "\n",
    "Respecto a elegir el modelo... Bosque Aleatorio, esta bien para este problema cierto? \n",
    "Elegí este modelo porque era el que mejor exactitud me daba cuando utilicé el conjunto de validacion, y de igual forma en la presicion evaluada con el F1_SCORE\n",
    "De igual forma lo cambié a RandomForestClassifier, en vez de regressor por el tipo de problema que es. (GRACIAS POR ESA NOTA)\n",
    "\n",
    "\n",
    "Saludos!\n",
    "</div>"
   ]
  }
 ],
 "metadata": {
  "kernelspec": {
   "display_name": "Python 3 (ipykernel)",
   "language": "python",
   "name": "python3"
  },
  "language_info": {
   "codemirror_mode": {
    "name": "ipython",
    "version": 3
   },
   "file_extension": ".py",
   "mimetype": "text/x-python",
   "name": "python",
   "nbconvert_exporter": "python",
   "pygments_lexer": "ipython3",
   "version": "3.12.4"
  },
  "toc": {
   "base_numbering": 1,
   "nav_menu": {},
   "number_sections": true,
   "sideBar": true,
   "skip_h1_title": true,
   "title_cell": "Table of Contents",
   "title_sidebar": "Contents",
   "toc_cell": false,
   "toc_position": {},
   "toc_section_display": true,
   "toc_window_display": false
  }
 },
 "nbformat": 4,
 "nbformat_minor": 2
}
