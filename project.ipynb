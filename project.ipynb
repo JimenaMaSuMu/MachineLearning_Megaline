{
 "cells": [
  {
   "cell_type": "markdown",
   "metadata": {},
   "source": [
    "SPRINT 8 - MACHINE LEARNING\n",
    "--\n",
    "La compañía móvil Megaline no está satisfecha al ver que muchos de sus clientes utilizan planes heredados. Quieren desarrollar un modelo que pueda analizar el comportamiento de los clientes y recomendar uno de los nuevos planes de Megaline: Smart o Ultra.\n",
    "\n",
    "Se trabaja con datos de comportamiento de los suscriptores que ya se han cambiado a los planes nuevos. \n",
    "\n",
    "Busccaremos un umbral de exactitud del 0.75. "
   ]
  },
  {
   "cell_type": "code",
   "execution_count": 188,
   "metadata": {},
   "outputs": [],
   "source": [
    "#IMPORTAR LIBRERIAS\n",
    "import pandas as pd\n",
    "from sklearn.model_selection import train_test_split\n",
    "from sklearn.metrics import accuracy_score\n",
    "from sklearn.tree import DecisionTreeClassifier\n",
    "from sklearn.tree import DecisionTreeRegressor\n",
    "from sklearn.ensemble import RandomForestClassifier\n",
    "from sklearn.ensemble import RandomForestRegressor\n",
    "from sklearn.metrics import mean_squared_error\n",
    "from sklearn.linear_model import LogisticRegression\n",
    "from sklearn.linear_model import LinearRegression"
   ]
  },
  {
   "cell_type": "code",
   "execution_count": 112,
   "metadata": {},
   "outputs": [
    {
     "name": "stdout",
     "output_type": "stream",
     "text": [
      "<class 'pandas.core.frame.DataFrame'>\n",
      "RangeIndex: 3214 entries, 0 to 3213\n",
      "Data columns (total 5 columns):\n",
      " #   Column    Non-Null Count  Dtype  \n",
      "---  ------    --------------  -----  \n",
      " 0   calls     3214 non-null   float64\n",
      " 1   minutes   3214 non-null   float64\n",
      " 2   messages  3214 non-null   float64\n",
      " 3   mb_used   3214 non-null   float64\n",
      " 4   is_ultra  3214 non-null   int64  \n",
      "dtypes: float64(4), int64(1)\n",
      "memory usage: 125.7 KB\n",
      "   calls  minutes  messages   mb_used  is_ultra\n",
      "0   40.0   311.90      83.0  19915.42         0\n",
      "1   85.0   516.75      56.0  22696.96         0\n",
      "2   77.0   467.66      86.0  21060.45         0\n",
      "3  106.0   745.53      81.0   8437.39         1\n",
      "4   66.0   418.74       1.0  14502.75         0\n",
      "5   58.0   344.56      21.0  15823.37         0\n",
      "6   57.0   431.64      20.0   3738.90         1\n",
      "7   15.0   132.40       6.0  21911.60         0\n",
      "8    7.0    43.39       3.0   2538.67         1\n",
      "9   90.0   665.41      38.0  17358.61         0\n"
     ]
    }
   ],
   "source": [
    "df = pd.read_csv('dataset/users_behavior.csv')\n",
    "df.info()\n",
    "print(df.head(10))"
   ]
  },
  {
   "cell_type": "code",
   "execution_count": 113,
   "metadata": {},
   "outputs": [
    {
     "name": "stdout",
     "output_type": "stream",
     "text": [
      "             calls    minutes  messages      mb_used\n",
      "is_ultra                                            \n",
      "0         130315.0  904846.84   74413.0  36128672.83\n",
      "1          72292.0  503556.20   48623.0  19176790.88\n",
      "          calls  minutes  messages  mb_used\n",
      "is_ultra                                   \n",
      "0          2229     2229      2229     2229\n",
      "1           985      985       985      985\n"
     ]
    }
   ],
   "source": [
    "print(df.groupby('is_ultra').sum())\n",
    "print(df.groupby('is_ultra').count())"
   ]
  },
  {
   "cell_type": "markdown",
   "metadata": {},
   "source": [
    "Podemos ver que tenemos mas clientes utilizando el plan SMART que el plan ULTRA. "
   ]
  },
  {
   "cell_type": "markdown",
   "metadata": {},
   "source": [
    "Dividir el dataset en un conjunto de entrenamiento y en un conjunto de validacion con un porcentaje del 25% y un valor de estado random de 54321. \n",
    "Tendremos 2410 filas en el conjunto de entrenamiento y 804 filas en el conjunto de validacion. "
   ]
  },
  {
   "cell_type": "code",
   "execution_count": 114,
   "metadata": {},
   "outputs": [
    {
     "name": "stdout",
     "output_type": "stream",
     "text": [
      "<class 'pandas.core.frame.DataFrame'>\n",
      "Index: 2410 entries, 103 to 2641\n",
      "Data columns (total 5 columns):\n",
      " #   Column    Non-Null Count  Dtype  \n",
      "---  ------    --------------  -----  \n",
      " 0   calls     2410 non-null   float64\n",
      " 1   minutes   2410 non-null   float64\n",
      " 2   messages  2410 non-null   float64\n",
      " 3   mb_used   2410 non-null   float64\n",
      " 4   is_ultra  2410 non-null   int64  \n",
      "dtypes: float64(4), int64(1)\n",
      "memory usage: 113.0 KB\n",
      "      calls  minutes  messages   mb_used  is_ultra\n",
      "103    74.0   540.81      17.0  20075.65         0\n",
      "1695   62.0   473.14       4.0  14623.29         1\n",
      "1542   66.0   430.02      20.0  12049.53         0\n",
      "636    92.0   628.47      72.0  16839.52         0\n",
      "1216   44.0   318.99      48.0  14817.03         0\n",
      "\n",
      "<class 'pandas.core.frame.DataFrame'>\n",
      "Index: 804 entries, 1727 to 720\n",
      "Data columns (total 5 columns):\n",
      " #   Column    Non-Null Count  Dtype  \n",
      "---  ------    --------------  -----  \n",
      " 0   calls     804 non-null    float64\n",
      " 1   minutes   804 non-null    float64\n",
      " 2   messages  804 non-null    float64\n",
      " 3   mb_used   804 non-null    float64\n",
      " 4   is_ultra  804 non-null    int64  \n",
      "dtypes: float64(4), int64(1)\n",
      "memory usage: 37.7 KB\n",
      "      calls  minutes  messages   mb_used  is_ultra\n",
      "1727  104.0   739.28      55.0  21940.11         1\n",
      "2885   67.0   469.58      63.0   7952.07         1\n",
      "2730   74.0   549.14      20.0  17160.61         0\n",
      "899    31.0   205.14      22.0  10250.58         0\n",
      "2119   26.0   172.87      16.0   6431.26         0\n"
     ]
    }
   ],
   "source": [
    "df_train, df_valid = train_test_split(df, test_size=0.25, random_state=54321)\n",
    "df_train.info()\n",
    "print(df_train.head())\n",
    "print()\n",
    "df_valid.info()\n",
    "print(df_valid.head())"
   ]
  },
  {
   "cell_type": "markdown",
   "metadata": {},
   "source": [
    "Generar 4 diferentes datasets. \n",
    "- 2 datasets con los datos de entrenamiento. Un dataset con la columna objetivo de is_ultra y otro dataset con las demas columnnas para formar el dataset de caracteristicas. \n",
    "- 2 datasets con los datos de validacion. Un dataset con la columna objetivo de is_ultra y otro dataset con las demas columnnas para formar el dataset de caracteristicas. "
   ]
  },
  {
   "cell_type": "code",
   "execution_count": 115,
   "metadata": {},
   "outputs": [
    {
     "name": "stdout",
     "output_type": "stream",
     "text": [
      "<class 'pandas.core.frame.DataFrame'>\n",
      "Index: 2410 entries, 103 to 2641\n",
      "Data columns (total 4 columns):\n",
      " #   Column    Non-Null Count  Dtype  \n",
      "---  ------    --------------  -----  \n",
      " 0   calls     2410 non-null   float64\n",
      " 1   minutes   2410 non-null   float64\n",
      " 2   messages  2410 non-null   float64\n",
      " 3   mb_used   2410 non-null   float64\n",
      "dtypes: float64(4)\n",
      "memory usage: 94.1 KB\n",
      "\n",
      "<class 'pandas.core.series.Series'>\n",
      "Index: 2410 entries, 103 to 2641\n",
      "Series name: is_ultra\n",
      "Non-Null Count  Dtype\n",
      "--------------  -----\n",
      "2410 non-null   int64\n",
      "dtypes: int64(1)\n",
      "memory usage: 37.7 KB\n"
     ]
    }
   ],
   "source": [
    "#CARACTERISTICAS Y OBJETIVO DE ENTRENAMIENTO\n",
    "features_train = df_train.drop('is_ultra',axis=1)\n",
    "target_train = df_train['is_ultra']\n",
    "features_train.info()\n",
    "print()\n",
    "target_train.info()"
   ]
  },
  {
   "cell_type": "code",
   "execution_count": 116,
   "metadata": {},
   "outputs": [
    {
     "name": "stdout",
     "output_type": "stream",
     "text": [
      "<class 'pandas.core.frame.DataFrame'>\n",
      "Index: 804 entries, 1727 to 720\n",
      "Data columns (total 4 columns):\n",
      " #   Column    Non-Null Count  Dtype  \n",
      "---  ------    --------------  -----  \n",
      " 0   calls     804 non-null    float64\n",
      " 1   minutes   804 non-null    float64\n",
      " 2   messages  804 non-null    float64\n",
      " 3   mb_used   804 non-null    float64\n",
      "dtypes: float64(4)\n",
      "memory usage: 31.4 KB\n",
      "\n",
      "<class 'pandas.core.series.Series'>\n",
      "Index: 804 entries, 1727 to 720\n",
      "Series name: is_ultra\n",
      "Non-Null Count  Dtype\n",
      "--------------  -----\n",
      "804 non-null    int64\n",
      "dtypes: int64(1)\n",
      "memory usage: 12.6 KB\n"
     ]
    }
   ],
   "source": [
    "#CARACTERISTICAS Y OBJETIVO DE VALIDACION\n",
    "features_valid = df_valid.drop('is_ultra',axis=1)\n",
    "target_valid = df_valid['is_ultra']\n",
    "features_valid.info()\n",
    "print()\n",
    "target_valid.info()"
   ]
  },
  {
   "cell_type": "markdown",
   "metadata": {},
   "source": [
    "Decision Tree Classifier Model. "
   ]
  },
  {
   "cell_type": "code",
   "execution_count": 129,
   "metadata": {},
   "outputs": [
    {
     "name": "stdout",
     "output_type": "stream",
     "text": [
      "Exactitud del conjunto de validacion: 0.7263681592039801\n"
     ]
    }
   ],
   "source": [
    "#modelo de clasificacion de arbol\n",
    "model_tree = DecisionTreeClassifier(random_state=54321)\n",
    "model_tree.fit(features_train,target_train)\n",
    "\n",
    "#Prediccion del modelo de clasificacion con los valores de validacion\n",
    "valid_tree_prediction = model_tree.predict(features_valid)\n",
    "print('Exactitud del conjunto de validacion:', accuracy_score(target_valid,valid_tree_prediction))"
   ]
  },
  {
   "cell_type": "code",
   "execution_count": 143,
   "metadata": {},
   "outputs": [
    {
     "name": "stdout",
     "output_type": "stream",
     "text": [
      "max_depth =  1 : 0.736318407960199\n",
      "max_depth =  2 : 0.7699004975124378\n",
      "max_depth =  3 : 0.7810945273631841\n",
      "max_depth =  4 : 0.7810945273631841\n",
      "max_depth =  5 : 0.7810945273631841\n",
      "max_depth =  6 : 0.7835820895522388\n",
      "max_depth =  7 : 0.7873134328358209\n",
      "max_depth =  8 : 0.7947761194029851\n",
      "max_depth =  9 : 0.7922885572139303\n",
      "max_depth =  10 : 0.7910447761194029\n",
      "\n",
      "El modelo con la mejor exactitud  0.7947761194029851 con un max_depth =  8\n"
     ]
    }
   ],
   "source": [
    "#DECISION TREE CLASSIFIER DIFERENTES PROFUNDIDADES\n",
    "best_score_tree = 0\n",
    "for depth in range(1,11):\n",
    "    model_tree = DecisionTreeClassifier(random_state=54321 , max_depth= depth)\n",
    "    model_tree.fit(features_train , target_train)\n",
    "    valid_tree_prediction = model_tree.predict(features_valid)\n",
    "    print('max_depth = ' , depth , ': ' , end= '')\n",
    "    score_tree = accuracy_score(target_valid,valid_tree_prediction)\n",
    "    print(score_tree)\n",
    "    if score_tree > best_score_tree:\n",
    "        best_score_tree = score_tree\n",
    "        best_max_depth = depth\n",
    "\n",
    "print('\\nEl modelo con la mejor exactitud ', best_score_tree,'con un max_depth = ',best_max_depth)"
   ]
  },
  {
   "cell_type": "markdown",
   "metadata": {},
   "source": [
    "RANDOM FOREST CLASSIFER MODEL."
   ]
  },
  {
   "cell_type": "code",
   "execution_count": 144,
   "metadata": {},
   "outputs": [
    {
     "name": "stdout",
     "output_type": "stream",
     "text": [
      "Exactitud del conjunto de validacion: 0.7487562189054726\n"
     ]
    }
   ],
   "source": [
    "#modelo de clasificacion de bosque\n",
    "model_forest = RandomForestClassifier(random_state= 54321 , n_estimators=3)\n",
    "model_forest.fit(features_train , target_train)\n",
    "valid_forest_prediction = model_forest.predict(features_valid)\n",
    "#Predicciones del modelo de bosque \n",
    "print('Exactitud del conjunto de validacion:', model_forest.score(features_valid , target_valid))"
   ]
  },
  {
   "cell_type": "code",
   "execution_count": 151,
   "metadata": {},
   "outputs": [
    {
     "name": "stdout",
     "output_type": "stream",
     "text": [
      "n_estimators =  1 : Con la exactitud 0.6878109452736318\n",
      "n_estimators =  2 : Con la exactitud 0.7562189054726368\n",
      "n_estimators =  3 : Con la exactitud 0.7487562189054726\n",
      "n_estimators =  4 : Con la exactitud 0.7674129353233831\n",
      "n_estimators =  5 : Con la exactitud 0.7574626865671642\n",
      "n_estimators =  6 : Con la exactitud 0.7723880597014925\n",
      "n_estimators =  7 : Con la exactitud 0.7786069651741293\n",
      "n_estimators =  8 : Con la exactitud 0.7761194029850746\n",
      "n_estimators =  9 : Con la exactitud 0.7736318407960199\n",
      "n_estimators =  10 : Con la exactitud 0.7786069651741293\n",
      "\n",
      "La mejor exactitud es de 0.7786069651741293 con (n_estimators = 7)\n"
     ]
    }
   ],
   "source": [
    "best_score_forest = 0\n",
    "best_est_forest = 0\n",
    "for est in range (1,11):\n",
    "    model_forest = RandomForestClassifier(random_state=54321 , n_estimators= est)\n",
    "    model_forest.fit(features_train , target_train)\n",
    "    print('n_estimators = ' , est , ': ' , end= '')\n",
    "    score_forest = model_forest.score(features_valid , target_valid)\n",
    "    print('Con la exactitud',score_forest)\n",
    "    if best_score_forest < score_forest:\n",
    "        best_score_forest = score_forest\n",
    "        best_est_forest = est\n",
    "\n",
    "print('\\nLa mejor exactitud es de {} con (n_estimators = {})'.format(best_score_forest,best_est_forest))"
   ]
  },
  {
   "cell_type": "markdown",
   "metadata": {},
   "source": [
    "Regresion logistica."
   ]
  },
  {
   "cell_type": "code",
   "execution_count": 153,
   "metadata": {},
   "outputs": [
    {
     "name": "stdout",
     "output_type": "stream",
     "text": [
      "La exactitud del modelo de regresion logistica en el conjunto de entrenamiento 0.7178423236514523\n",
      "La exactitud del modelo de regresion logistica en el conjunto de validacion 0.6940298507462687\n"
     ]
    }
   ],
   "source": [
    "model_regression= LogisticRegression(random_state= 54321 , solver='liblinear')\n",
    "model_regression.fit(features_train,target_train)\n",
    "score_train_regression = model_regression.score(features_train,target_train)\n",
    "score_valid_regression = model_regression.score(features_valid,target_valid)\n",
    "\n",
    "print('La exactitud del modelo de regresion logistica en el conjunto de entrenamiento', score_train_regression)\n",
    "print('La exactitud del modelo de regresion logistica en el conjunto de validacion', score_valid_regression)"
   ]
  },
  {
   "cell_type": "markdown",
   "metadata": {},
   "source": [
    "Vamos a revisar el error medio cuadratico (EMC) de cada uno de los modelos para elegir el mejor. "
   ]
  },
  {
   "cell_type": "code",
   "execution_count": 183,
   "metadata": {},
   "outputs": [
    {
     "name": "stdout",
     "output_type": "stream",
     "text": [
      "(2410, 4)\n",
      "(804, 4)\n",
      "(2410,)\n",
      "(804,)\n"
     ]
    }
   ],
   "source": [
    "# Declaracion para el RECM. \n",
    "features = df.drop(['is_ultra'],axis=1)\n",
    "target = df['is_ultra']\n",
    "features_train_ecm , features_valid_ecm , target_train_ecm, target_valid_ecm = train_test_split(features, target,test_size=0.25,random_state=54321)\n",
    "print(features_train_ecm.shape)\n",
    "print(features_valid_ecm.shape)\n",
    "print(target_train_ecm.shape)\n",
    "print(target_valid_ecm.shape)\n"
   ]
  },
  {
   "cell_type": "code",
   "execution_count": 187,
   "metadata": {},
   "outputs": [
    {
     "name": "stdout",
     "output_type": "stream",
     "text": [
      "max_depth =  1 : RECM 0.44098405178305866\n",
      "max_depth =  2 : RECM 0.41935202725776616\n",
      "max_depth =  3 : RECM 0.40919632941340167\n",
      "max_depth =  4 : RECM 0.404940364204513\n",
      "max_depth =  5 : RECM 0.40033089897845153\n",
      "max_depth =  6 : RECM 0.39920585182877466\n",
      "max_depth =  7 : RECM 0.4051436635073566\n",
      "max_depth =  8 : RECM 0.4038884724633892\n",
      "max_depth =  9 : RECM 0.4063362159345581\n",
      "max_depth =  10 : RECM 0.4107715233752954\n",
      "\n",
      "The model with the best RECM was:\n",
      " DecisionTreeRegressor(max_depth=6, random_state=54321) \n",
      "with a RECM of :  0.39920585182877466\n"
     ]
    }
   ],
   "source": [
    "best_RECM_tree = 10000\n",
    "best_depth = 0\n",
    "for depth in range(1,11):\n",
    "    model_tree_regressor = DecisionTreeRegressor(random_state=54321 , max_depth= depth)\n",
    "    model_tree_regressor.fit(features_train_ecm , target_train_ecm)\n",
    "    valid_tree_prediction_ecm = model_tree_regressor.predict(features_valid_ecm)\n",
    "    print('max_depth = ' , depth , ': ' , end= '')\n",
    "    #score_tree_ecm = accuracy_score(target_valid_ecm,valid_tree_prediction_ecm)\n",
    "    #print(score_tree_ecm)\n",
    "    RECM_tree = mean_squared_error(target_valid_ecm, valid_tree_prediction_ecm) ** 0.5\n",
    "    print('RECM',RECM_tree)\n",
    "    if RECM_tree < best_RECM_tree:\n",
    "        best_model_tree = model_tree_regressor\n",
    "        best_RECM_tree = RECM_tree\n",
    "\n",
    "print('\\nThe model with the best RECM was:\\n',best_model_tree,'\\nwith a RECM of : ' , best_RECM_tree)\n"
   ]
  },
  {
   "cell_type": "code",
   "execution_count": 201,
   "metadata": {},
   "outputs": [
    {
     "name": "stdout",
     "output_type": "stream",
     "text": [
      "El RECM es 0.5348547950063582 con el numero de arboles de 1\n",
      "El RECM es 0.4506076604781504 con el numero de arboles de 2\n",
      "El RECM es 0.4311335926161923 con el numero de arboles de 3\n",
      "El RECM es 0.4250402380717613 con el numero de arboles de 4\n",
      "El RECM es 0.42067228828311626 con el numero de arboles de 5\n",
      "El RECM es 0.4129602981518207 con el numero de arboles de 6\n",
      "El RECM es 0.40908680672082165 con el numero de arboles de 7\n",
      "El RECM es 0.4038931346025883 con el numero de arboles de 8\n",
      "El RECM es 0.4021088687016953 con el numero de arboles de 9\n",
      "El RECM es 0.3998444971367585 con el numero de arboles de 10\n",
      "\n",
      "El mejor RECM 0.3998444971367585 se obtuvo con (n_estimators = 10)\n"
     ]
    }
   ],
   "source": [
    "best_RECM_forest = 10000\n",
    "best_est_forest = 0\n",
    "best_depth_forest = 0\n",
    "for est in range (1,11):\n",
    "    model_forest_regressor = RandomForestRegressor(random_state=54321 , n_estimators= est)\n",
    "    model_forest_regressor.fit(features_train_ecm , target_train_ecm)\n",
    "    valid_forest_prediction_ecm = model_forest_regressor.predict(features_valid_ecm)\n",
    "    #score_forest = model_forest.score(features_valid_ecm , target_valid_ecm)\n",
    "    RECM_forest = mean_squared_error(target_valid_ecm, valid_forest_prediction_ecm)**0.5\n",
    "    print('El RECM es',RECM_forest, 'con el numero de arboles de',est)\n",
    "    #print('Con la exactitud',score_forest)\n",
    "    if RECM_forest < best_RECM_forest:\n",
    "        best_RECM_forest = RECM_forest\n",
    "        #best_score_forest = score_forest\n",
    "        best_est_forest = est\n",
    "        best_model_forest = model_forest_regressor\n",
    "\n",
    "print('\\nEl mejor RECM {} se obtuvo con (n_estimators = {})'.format(best_RECM_forest,best_est_forest))"
   ]
  },
  {
   "cell_type": "code",
   "execution_count": 203,
   "metadata": {},
   "outputs": [
    {
     "name": "stdout",
     "output_type": "stream",
     "text": [
      "RECM del modelo de regresion lineal en el conjunto de validacion 0.45504947446604305\n"
     ]
    }
   ],
   "source": [
    "model_linel = LinearRegression()\n",
    "model_linel.fit(features_train_ecm,target_train_ecm)\n",
    "prediction_lineal_valid_ecm = model_linel.predict(features_valid_ecm)\n",
    "RECM_linel = mean_squared_error(target_valid_ecm,prediction_lineal_valid_ecm)**0.5\n",
    "\n",
    "print('RECM del modelo de regresion lineal en el conjunto de validacion',RECM_linel)"
   ]
  }
 ],
 "metadata": {
  "kernelspec": {
   "display_name": "Python 3",
   "language": "python",
   "name": "python3"
  },
  "language_info": {
   "codemirror_mode": {
    "name": "ipython",
    "version": 3
   },
   "file_extension": ".py",
   "mimetype": "text/x-python",
   "name": "python",
   "nbconvert_exporter": "python",
   "pygments_lexer": "ipython3",
   "version": "3.12.4"
  }
 },
 "nbformat": 4,
 "nbformat_minor": 2
}
