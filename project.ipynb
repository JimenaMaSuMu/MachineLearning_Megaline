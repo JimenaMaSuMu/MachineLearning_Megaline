{
 "cells": [
  {
   "cell_type": "markdown",
   "metadata": {},
   "source": [
    "SPRINT 8 - MACHINE LEARNING\n",
    "--\n",
    "Descripcion.\n",
    "\n",
    "La compañía móvil Megaline no está satisfecha al ver que muchos de sus clientes utilizan planes heredados. Quieren desarrollar un modelo que pueda analizar el comportamiento de los clientes y recomendar uno de los nuevos planes de Megaline: Smart o Ultra.\n",
    "\n",
    "Se trabaja con datos de comportamiento de los suscriptores que ya se han cambiado a los planes nuevos. \n",
    "\n",
    "Buscaremos un umbral de exactitud del 0.75. "
   ]
  },
  {
   "cell_type": "markdown",
   "metadata": {},
   "source": [
    "Preparacion de datos y herramientas de trabajo.\n",
    "---"
   ]
  },
  {
   "cell_type": "code",
   "execution_count": 1,
   "metadata": {},
   "outputs": [],
   "source": [
    "#IMPORTAR LIBRERIAS\n",
    "import pandas as pd\n",
    "from sklearn.model_selection import train_test_split\n",
    "from sklearn.metrics import accuracy_score\n",
    "from sklearn.tree import DecisionTreeClassifier\n",
    "from sklearn.tree import DecisionTreeRegressor\n",
    "from sklearn.ensemble import RandomForestClassifier\n",
    "from sklearn.ensemble import RandomForestRegressor\n",
    "from sklearn.metrics import mean_squared_error\n",
    "from sklearn.linear_model import LogisticRegression\n",
    "from sklearn.linear_model import LinearRegression"
   ]
  },
  {
   "cell_type": "code",
   "execution_count": 2,
   "metadata": {},
   "outputs": [
    {
     "name": "stdout",
     "output_type": "stream",
     "text": [
      "<class 'pandas.core.frame.DataFrame'>\n",
      "RangeIndex: 3214 entries, 0 to 3213\n",
      "Data columns (total 5 columns):\n",
      " #   Column    Non-Null Count  Dtype  \n",
      "---  ------    --------------  -----  \n",
      " 0   calls     3214 non-null   float64\n",
      " 1   minutes   3214 non-null   float64\n",
      " 2   messages  3214 non-null   float64\n",
      " 3   mb_used   3214 non-null   float64\n",
      " 4   is_ultra  3214 non-null   int64  \n",
      "dtypes: float64(4), int64(1)\n",
      "memory usage: 125.7 KB\n",
      "   calls  minutes  messages   mb_used  is_ultra\n",
      "0   40.0   311.90      83.0  19915.42         0\n",
      "1   85.0   516.75      56.0  22696.96         0\n",
      "2   77.0   467.66      86.0  21060.45         0\n",
      "3  106.0   745.53      81.0   8437.39         1\n",
      "4   66.0   418.74       1.0  14502.75         0\n",
      "5   58.0   344.56      21.0  15823.37         0\n",
      "6   57.0   431.64      20.0   3738.90         1\n",
      "7   15.0   132.40       6.0  21911.60         0\n",
      "8    7.0    43.39       3.0   2538.67         1\n",
      "9   90.0   665.41      38.0  17358.61         0\n",
      "\n",
      "Podemos ver que tenemos  0 duplicados\n"
     ]
    }
   ],
   "source": [
    "df = pd.read_csv('dataset/users_behavior.csv')\n",
    "df.info()\n",
    "print(df.head(10))\n",
    "\n",
    "print('\\nPodemos ver que tenemos ',df.duplicated().sum(),'duplicados')"
   ]
  },
  {
   "cell_type": "code",
   "execution_count": 3,
   "metadata": {},
   "outputs": [
    {
     "name": "stdout",
     "output_type": "stream",
     "text": [
      "             calls    minutes  messages      mb_used\n",
      "is_ultra                                            \n",
      "0         130315.0  904846.84   74413.0  36128672.83\n",
      "1          72292.0  503556.20   48623.0  19176790.88\n",
      "          calls  minutes  messages  mb_used\n",
      "is_ultra                                   \n",
      "0          2229     2229      2229     2229\n",
      "1           985      985       985      985\n"
     ]
    }
   ],
   "source": [
    "print(df.groupby('is_ultra').sum())\n",
    "print(df.groupby('is_ultra').count())"
   ]
  },
  {
   "cell_type": "markdown",
   "metadata": {},
   "source": [
    "Podemos ver que tenemos mas clientes utilizando el plan SMART que el plan ULTRA. \n",
    "Por esto, la cantidad de mensajes, llamadas y de uso de datos será mayor en el plan SMART. \n",
    "Tambien podemos ver con ayuda de info() que no contamos con valores nulos y de igual forma no tenemos valores duplicados."
   ]
  },
  {
   "cell_type": "markdown",
   "metadata": {},
   "source": [
    "Dividir el dataset en un conjunto de entrenamiento y en un conjunto de validacion con un porcentaje del 25% y un valor de estado random de 54321. \n",
    "Tendremos 2410 filas en el conjunto de entrenamiento y 804 filas en el conjunto de validacion. "
   ]
  },
  {
   "cell_type": "code",
   "execution_count": 4,
   "metadata": {},
   "outputs": [
    {
     "name": "stdout",
     "output_type": "stream",
     "text": [
      "<class 'pandas.core.frame.DataFrame'>\n",
      "Index: 2410 entries, 103 to 2641\n",
      "Data columns (total 5 columns):\n",
      " #   Column    Non-Null Count  Dtype  \n",
      "---  ------    --------------  -----  \n",
      " 0   calls     2410 non-null   float64\n",
      " 1   minutes   2410 non-null   float64\n",
      " 2   messages  2410 non-null   float64\n",
      " 3   mb_used   2410 non-null   float64\n",
      " 4   is_ultra  2410 non-null   int64  \n",
      "dtypes: float64(4), int64(1)\n",
      "memory usage: 113.0 KB\n",
      "      calls  minutes  messages   mb_used  is_ultra\n",
      "103    74.0   540.81      17.0  20075.65         0\n",
      "1695   62.0   473.14       4.0  14623.29         1\n",
      "1542   66.0   430.02      20.0  12049.53         0\n",
      "636    92.0   628.47      72.0  16839.52         0\n",
      "1216   44.0   318.99      48.0  14817.03         0\n",
      "\n",
      "<class 'pandas.core.frame.DataFrame'>\n",
      "Index: 804 entries, 1727 to 720\n",
      "Data columns (total 5 columns):\n",
      " #   Column    Non-Null Count  Dtype  \n",
      "---  ------    --------------  -----  \n",
      " 0   calls     804 non-null    float64\n",
      " 1   minutes   804 non-null    float64\n",
      " 2   messages  804 non-null    float64\n",
      " 3   mb_used   804 non-null    float64\n",
      " 4   is_ultra  804 non-null    int64  \n",
      "dtypes: float64(4), int64(1)\n",
      "memory usage: 37.7 KB\n",
      "      calls  minutes  messages   mb_used  is_ultra\n",
      "1727  104.0   739.28      55.0  21940.11         1\n",
      "2885   67.0   469.58      63.0   7952.07         1\n",
      "2730   74.0   549.14      20.0  17160.61         0\n",
      "899    31.0   205.14      22.0  10250.58         0\n",
      "2119   26.0   172.87      16.0   6431.26         0\n"
     ]
    }
   ],
   "source": [
    "#Dividir el data set en validacion y entrenamiento.\n",
    "df_train, df_valid = train_test_split(df, test_size=0.25, random_state=54321)\n",
    "df_train.info()\n",
    "print(df_train.head())\n",
    "print()\n",
    "df_valid.info()\n",
    "print(df_valid.head())"
   ]
  },
  {
   "cell_type": "markdown",
   "metadata": {},
   "source": [
    "Generar 4 diferentes datasets. \n",
    "- 2 datasets con los datos de entrenamiento. Un dataset con la columna objetivo de is_ultra y otro dataset con las demas columnnas para formar el dataset de caracteristicas. \n",
    "- 2 datasets con los datos de validacion. Un dataset con la columna objetivo de is_ultra y otro dataset con las demas columnnas para formar el dataset de caracteristicas. "
   ]
  },
  {
   "cell_type": "code",
   "execution_count": 5,
   "metadata": {},
   "outputs": [
    {
     "name": "stdout",
     "output_type": "stream",
     "text": [
      "<class 'pandas.core.frame.DataFrame'>\n",
      "Index: 2410 entries, 103 to 2641\n",
      "Data columns (total 4 columns):\n",
      " #   Column    Non-Null Count  Dtype  \n",
      "---  ------    --------------  -----  \n",
      " 0   calls     2410 non-null   float64\n",
      " 1   minutes   2410 non-null   float64\n",
      " 2   messages  2410 non-null   float64\n",
      " 3   mb_used   2410 non-null   float64\n",
      "dtypes: float64(4)\n",
      "memory usage: 94.1 KB\n",
      "\n",
      "<class 'pandas.core.series.Series'>\n",
      "Index: 2410 entries, 103 to 2641\n",
      "Series name: is_ultra\n",
      "Non-Null Count  Dtype\n",
      "--------------  -----\n",
      "2410 non-null   int64\n",
      "dtypes: int64(1)\n",
      "memory usage: 37.7 KB\n"
     ]
    }
   ],
   "source": [
    "#CARACTERISTICAS Y OBJETIVO DE ENTRENAMIENTO\n",
    "features_train = df_train.drop('is_ultra',axis=1)\n",
    "target_train = df_train['is_ultra']\n",
    "features_train.info()\n",
    "print()\n",
    "target_train.info()"
   ]
  },
  {
   "cell_type": "code",
   "execution_count": 6,
   "metadata": {},
   "outputs": [
    {
     "name": "stdout",
     "output_type": "stream",
     "text": [
      "<class 'pandas.core.frame.DataFrame'>\n",
      "Index: 804 entries, 1727 to 720\n",
      "Data columns (total 4 columns):\n",
      " #   Column    Non-Null Count  Dtype  \n",
      "---  ------    --------------  -----  \n",
      " 0   calls     804 non-null    float64\n",
      " 1   minutes   804 non-null    float64\n",
      " 2   messages  804 non-null    float64\n",
      " 3   mb_used   804 non-null    float64\n",
      "dtypes: float64(4)\n",
      "memory usage: 31.4 KB\n",
      "\n",
      "<class 'pandas.core.series.Series'>\n",
      "Index: 804 entries, 1727 to 720\n",
      "Series name: is_ultra\n",
      "Non-Null Count  Dtype\n",
      "--------------  -----\n",
      "804 non-null    int64\n",
      "dtypes: int64(1)\n",
      "memory usage: 12.6 KB\n"
     ]
    }
   ],
   "source": [
    "#CARACTERISTICAS Y OBJETIVO DE VALIDACION\n",
    "features_valid = df_valid.drop('is_ultra',axis=1)\n",
    "target_valid = df_valid['is_ultra']\n",
    "features_valid.info()\n",
    "print()\n",
    "target_valid.info()"
   ]
  },
  {
   "cell_type": "markdown",
   "metadata": {},
   "source": [
    "Decision Tree Classifier Model. \n",
    "---\n",
    "Random_state de 54321.\n",
    "Primero calcular la exactitud con una max_depth predeterminado. \n",
    "Segundo revisar que exactitud es la mejor modificando el max_depth, usaremos un rango de 1 a 10."
   ]
  },
  {
   "cell_type": "code",
   "execution_count": 7,
   "metadata": {},
   "outputs": [
    {
     "name": "stdout",
     "output_type": "stream",
     "text": [
      "Exactitud del conjunto de validacion: 0.7263681592039801\n"
     ]
    }
   ],
   "source": [
    "#modelo de clasificacion de arbol\n",
    "model_tree = DecisionTreeClassifier(random_state=54321)\n",
    "model_tree.fit(features_train,target_train)\n",
    "\n",
    "#Prediccion del modelo de clasificacion con los valores de validacion\n",
    "valid_tree_prediction = model_tree.predict(features_valid)\n",
    "print('Exactitud del conjunto de validacion:', accuracy_score(target_valid,valid_tree_prediction))"
   ]
  },
  {
   "cell_type": "code",
   "execution_count": 8,
   "metadata": {},
   "outputs": [
    {
     "name": "stdout",
     "output_type": "stream",
     "text": [
      "max_depth =  1 : 0.736318407960199\n",
      "max_depth =  2 : 0.7699004975124378\n",
      "max_depth =  3 : 0.7810945273631841\n",
      "max_depth =  4 : 0.7810945273631841\n",
      "max_depth =  5 : 0.7810945273631841\n",
      "max_depth =  6 : 0.7835820895522388\n",
      "max_depth =  7 : 0.7873134328358209\n",
      "max_depth =  8 : 0.7947761194029851\n",
      "max_depth =  9 : 0.7922885572139303\n",
      "max_depth =  10 : 0.7910447761194029\n",
      "\n",
      "El modelo con la mejor exactitud  0.7947761194029851 con un max_depth =  8 \n",
      "el modelo fue: DecisionTreeClassifier(max_depth=8, random_state=54321)\n"
     ]
    }
   ],
   "source": [
    "#DECISION TREE CLASSIFIER DIFERENTES PROFUNDIDADES\n",
    "best_score_tree = 0\n",
    "for depth in range(1,11):\n",
    "    model_tree = DecisionTreeClassifier(random_state=54321 , max_depth= depth)\n",
    "    model_tree.fit(features_train , target_train)\n",
    "    valid_tree_prediction = model_tree.predict(features_valid)\n",
    "    print('max_depth = ' , depth , ': ' , end= '')\n",
    "    score_tree = accuracy_score(target_valid,valid_tree_prediction)\n",
    "    print(score_tree)\n",
    "    if score_tree > best_score_tree:\n",
    "        best_score_tree = score_tree\n",
    "        best_max_depth = depth\n",
    "        best_model_tree = model_tree\n",
    "        best_valid_tree_prediction = valid_tree_prediction\n",
    "\n",
    "print('\\nEl modelo con la mejor exactitud ', best_score_tree,'con un max_depth = ',best_max_depth,'\\nel modelo fue:',best_model_tree)\n",
    "#print(valid_tree_prediction)\n"
   ]
  },
  {
   "cell_type": "markdown",
   "metadata": {},
   "source": [
    "Con el modelo DecisionTreeClassifier se obtuvo una exactitud del 0.79 con la profundidad de 8. \n",
    "Estamos arriba del .75, pero tenemos que revisar el error medio cuadratico para poder llegar a una conclusion. "
   ]
  },
  {
   "cell_type": "markdown",
   "metadata": {},
   "source": [
    "RANDOM FOREST CLASSIFER MODEL.\n",
    "---\n",
    "Trabajaremos en esta seccion con el modelo bosque aleatorio, utilizando de igualforma el random state de 54321 y un numero de arboles de 3. \n",
    "Despues revisar con diferentes valores de numero de arboles para comparar que valor de n_estimators nos da una mejor exactitud. "
   ]
  },
  {
   "cell_type": "code",
   "execution_count": 9,
   "metadata": {},
   "outputs": [
    {
     "name": "stdout",
     "output_type": "stream",
     "text": [
      "Exactitud del conjunto de validacion: 0.7487562189054726\n"
     ]
    }
   ],
   "source": [
    "#modelo de clasificacion de bosque\n",
    "model_forest = RandomForestClassifier(random_state= 54321 , n_estimators=3)\n",
    "model_forest.fit(features_train , target_train)\n",
    "valid_forest_prediction = model_forest.predict(features_valid)\n",
    "#Predicciones del modelo de bosque \n",
    "print('Exactitud del conjunto de validacion:', model_forest.score(features_valid , target_valid))"
   ]
  },
  {
   "cell_type": "code",
   "execution_count": 10,
   "metadata": {},
   "outputs": [
    {
     "name": "stdout",
     "output_type": "stream",
     "text": [
      "n_estimators =  1 : Con la exactitud 0.6878109452736318\n",
      "n_estimators =  2 : Con la exactitud 0.7562189054726368\n",
      "n_estimators =  3 : Con la exactitud 0.7487562189054726\n",
      "n_estimators =  4 : Con la exactitud 0.7674129353233831\n",
      "n_estimators =  5 : Con la exactitud 0.7574626865671642\n",
      "n_estimators =  6 : Con la exactitud 0.7723880597014925\n",
      "n_estimators =  7 : Con la exactitud 0.7786069651741293\n",
      "n_estimators =  8 : Con la exactitud 0.7761194029850746\n",
      "n_estimators =  9 : Con la exactitud 0.7736318407960199\n",
      "n_estimators =  10 : Con la exactitud 0.7786069651741293\n",
      "\n",
      "La mejor exactitud es de 0.7786069651741293 con (n_estimators = 7)\n"
     ]
    }
   ],
   "source": [
    "best_score_forest = 0\n",
    "best_est_forest = 0\n",
    "for est in range (1,11):\n",
    "    model_forest = RandomForestClassifier(random_state=54321 , n_estimators= est)\n",
    "    model_forest.fit(features_train , target_train)\n",
    "    print('n_estimators = ' , est , ': ' , end= '')\n",
    "    score_forest = model_forest.score(features_valid , target_valid)\n",
    "    print('Con la exactitud',score_forest)\n",
    "    if best_score_forest < score_forest:\n",
    "        best_score_forest = score_forest\n",
    "        best_est_forest = est\n",
    "\n",
    "print('\\nLa mejor exactitud es de {} con (n_estimators = {})'.format(best_score_forest,best_est_forest))"
   ]
  },
  {
   "cell_type": "markdown",
   "metadata": {},
   "source": [
    "El modelo con n_estimators de 7 tuvo la mejor exactitud, 0.778.\n",
    "Podemos norar que despues del estimado 6 ya no hay una cambio tan representativo en la extitud. Es más, el estimado 10 tuvo la misma exatitud que el estimado 7.\n"
   ]
  },
  {
   "cell_type": "markdown",
   "metadata": {},
   "source": [
    "REGRESION LOGISTICA.\n",
    "---\n",
    "Detro de la regresión logistica igualmente utilizaremos el random state de 54321- \n",
    "Calificaremos la exactitud utilizando el conjunto de valores tanto de entrenamiento como de validacion. "
   ]
  },
  {
   "cell_type": "code",
   "execution_count": 11,
   "metadata": {},
   "outputs": [
    {
     "name": "stdout",
     "output_type": "stream",
     "text": [
      "La exactitud del modelo de regresion logistica en el conjunto de entrenamiento 0.7178423236514523\n",
      "La exactitud del modelo de regresion logistica en el conjunto de validacion 0.6940298507462687\n"
     ]
    }
   ],
   "source": [
    "model_regression= LogisticRegression(random_state= 54321 , solver='liblinear')\n",
    "model_regression.fit(features_train,target_train)\n",
    "score_train_regression = model_regression.score(features_train,target_train)\n",
    "score_valid_regression = model_regression.score(features_valid,target_valid)\n",
    "\n",
    "print('La exactitud del modelo de regresion logistica en el conjunto de entrenamiento', score_train_regression)\n",
    "print('La exactitud del modelo de regresion logistica en el conjunto de validacion', score_valid_regression)"
   ]
  },
  {
   "cell_type": "markdown",
   "metadata": {},
   "source": [
    "Podemos ver una exactitud muy baja de en este modelo, sin embargo, revisemos el error cuadratico de los modelos para poder eleguir uno de manera correcta. "
   ]
  },
  {
   "cell_type": "markdown",
   "metadata": {},
   "source": [
    "ERROR CUADRATICO MEDIO\n",
    "---"
   ]
  },
  {
   "cell_type": "markdown",
   "metadata": {},
   "source": [
    "Vamos a revisar el error medio cuadratico (EMC) de cada uno de los modelos para elegir el mejor. "
   ]
  },
  {
   "cell_type": "code",
   "execution_count": 12,
   "metadata": {},
   "outputs": [
    {
     "name": "stdout",
     "output_type": "stream",
     "text": [
      "(2410, 4)\n",
      "(804, 4)\n",
      "(2410,)\n",
      "(804,)\n"
     ]
    }
   ],
   "source": [
    "# Declaracion para el RECM. \n",
    "features = df.drop(['is_ultra'],axis=1)\n",
    "target = df['is_ultra']\n",
    "features_train_ecm , features_valid_ecm , target_train_ecm, target_valid_ecm = train_test_split(features, target,test_size=0.25,random_state=54321)\n",
    "print(features_train_ecm.shape)\n",
    "print(features_valid_ecm.shape)\n",
    "print(target_train_ecm.shape)\n",
    "print(target_valid_ecm.shape)\n"
   ]
  },
  {
   "cell_type": "code",
   "execution_count": 13,
   "metadata": {},
   "outputs": [
    {
     "name": "stdout",
     "output_type": "stream",
     "text": [
      "El RECM en base al promedio de los valores de target es ->  0.46102797293043907\n"
     ]
    }
   ],
   "source": [
    "#Prueba de cordura\n",
    "predictions_cordura = pd.Series(target.mean(),index=target.index)\n",
    "mse = mean_squared_error(target,predictions_cordura)\n",
    "rmse = mse ** 0.5\n",
    "print('El RECM en base al promedio de los valores de target es -> ',rmse)"
   ]
  },
  {
   "cell_type": "code",
   "execution_count": 14,
   "metadata": {},
   "outputs": [
    {
     "name": "stdout",
     "output_type": "stream",
     "text": [
      "max_depth =  1 : RECM 0.44098405178305866\n",
      "max_depth =  2 : RECM 0.41935202725776616\n",
      "max_depth =  3 : RECM 0.40919632941340167\n",
      "max_depth =  4 : RECM 0.404940364204513\n",
      "max_depth =  5 : RECM 0.40033089897845153\n",
      "max_depth =  6 : RECM 0.39920585182877466\n",
      "max_depth =  7 : RECM 0.4051436635073566\n",
      "max_depth =  8 : RECM 0.4038884724633892\n",
      "max_depth =  9 : RECM 0.4063362159345581\n",
      "max_depth =  10 : RECM 0.4107715233752954\n",
      "\n",
      "The model with the best RECM was:\n",
      " DecisionTreeRegressor(max_depth=6, random_state=54321) \n",
      "with a RECM of :  0.39920585182877466\n"
     ]
    }
   ],
   "source": [
    "#DECISION TREE REGRESSOR. RECM\n",
    "best_RECM_tree = 10000\n",
    "best_depth = 0\n",
    "for depth in range(1,11):\n",
    "    model_tree_regressor = DecisionTreeRegressor(random_state=54321 , max_depth= depth)\n",
    "    model_tree_regressor.fit(features_train_ecm , target_train_ecm)\n",
    "    valid_tree_prediction_ecm = model_tree_regressor.predict(features_valid_ecm)\n",
    "    print('max_depth = ' , depth , ': ' , end= '')\n",
    "    RECM_tree = mean_squared_error(target_valid_ecm, valid_tree_prediction_ecm) ** 0.5\n",
    "    print('RECM',RECM_tree)\n",
    "    if RECM_tree < best_RECM_tree:\n",
    "        best_model_tree = model_tree_regressor\n",
    "        best_RECM_tree = RECM_tree\n",
    "\n",
    "print('\\nThe model with the best RECM was:\\n',best_model_tree,'\\nwith a RECM of : ' , best_RECM_tree)\n"
   ]
  },
  {
   "cell_type": "markdown",
   "metadata": {},
   "source": [
    "Al analizar el Error Medio Cuadratico del modelo del árbol de desición de regresión, el modelo que mejor responde es el que tiene la profundidad de 6, con un 0.399 de RECM.\n",
    "Este resultado es mejor que el RECM en la prueba de cordura.  "
   ]
  },
  {
   "cell_type": "code",
   "execution_count": 15,
   "metadata": {},
   "outputs": [
    {
     "name": "stdout",
     "output_type": "stream",
     "text": [
      "\n",
      "El RECM es 0.43030643644756944 con el numero de arboles de 10 y una profundidad de :  1\n",
      "El RECM es 0.4159120698914129 con el numero de arboles de 10 y una profundidad de :  2\n",
      "El RECM es 0.4076383317865406 con el numero de arboles de 10 y una profundidad de :  3\n",
      "El RECM es 0.3987678217072082 con el numero de arboles de 10 y una profundidad de :  4\n",
      "El RECM es 0.39395586231233054 con el numero de arboles de 10 y una profundidad de :  5\n",
      "El RECM es 0.3894803800929814 con el numero de arboles de 10 y una profundidad de :  6\n",
      "El RECM es 0.3892000351356857 con el numero de arboles de 10 y una profundidad de :  7\n",
      "El RECM es 0.3851956570606119 con el numero de arboles de 10 y una profundidad de :  8\n",
      "El RECM es 0.3869745634090257 con el numero de arboles de 10 y una profundidad de :  9\n",
      "El RECM es 0.3876881630086166 con el numero de arboles de 10 y una profundidad de :  10\n",
      "\n",
      "El RECM es 0.43162530291565276 con el numero de arboles de 20 y una profundidad de :  1\n",
      "El RECM es 0.4150566324763324 con el numero de arboles de 20 y una profundidad de :  2\n",
      "El RECM es 0.40722976318703585 con el numero de arboles de 20 y una profundidad de :  3\n",
      "El RECM es 0.39713686006673493 con el numero de arboles de 20 y una profundidad de :  4\n",
      "El RECM es 0.3925001601858152 con el numero de arboles de 20 y una profundidad de :  5\n",
      "El RECM es 0.388668812972288 con el numero de arboles de 20 y una profundidad de :  6\n",
      "El RECM es 0.38760520956978123 con el numero de arboles de 20 y una profundidad de :  7\n",
      "El RECM es 0.3842480274520498 con el numero de arboles de 20 y una profundidad de :  8\n",
      "El RECM es 0.3838275787804249 con el numero de arboles de 20 y una profundidad de :  9\n",
      "El RECM es 0.38607866972757565 con el numero de arboles de 20 y una profundidad de :  10\n",
      "\n",
      "El mejor RECM 0.3838275787804249 se obtuvo con (n_estimators = 20) y (max_depth = 9)\n"
     ]
    }
   ],
   "source": [
    "#Bosque aleatorio de regresion. RECM.\n",
    "best_RECM_forest = 10000\n",
    "best_est_forest = 0\n",
    "best_depth_forest = 0\n",
    "for est in range (10,30,10):\n",
    "    print()\n",
    "    for depth in range(1 , 11):\n",
    "        model_forest_regressor = RandomForestRegressor(random_state=54321 , n_estimators= est , max_depth=depth)\n",
    "        model_forest_regressor.fit(features_train_ecm , target_train_ecm)\n",
    "        valid_forest_prediction_ecm = model_forest_regressor.predict(features_valid_ecm)\n",
    "        RECM_forest = mean_squared_error(target_valid_ecm, valid_forest_prediction_ecm)**0.5\n",
    "        print('El RECM es',RECM_forest, 'con el numero de arboles de',est,'y una profundidad de : ',depth)\n",
    "        if RECM_forest < best_RECM_forest:\n",
    "            best_RECM_forest = RECM_forest\n",
    "            best_est_forest = est\n",
    "            best_model_forest = model_forest_regressor\n",
    "            best_max_depth_forest = depth\n",
    "         \n",
    "\n",
    "print('\\nEl mejor RECM {} se obtuvo con (n_estimators = {}) y (max_depth = {})'.format(best_RECM_forest,best_est_forest,best_max_depth_forest))"
   ]
  },
  {
   "cell_type": "markdown",
   "metadata": {},
   "source": [
    "Despues de hacer varias pruebas de diferentes rangos, se puede ver  que para el modelo Bosque aleatorio los mejores hipervalores son (n_estimators = 20) y (max_depth = 9), con un 0.3838 de RECM. \n",
    "Podemos ver que despues del .38 ya no hay tanta mejora, pero al varias el sistema podemos ver una pequeña variacion que nos puede beneficiar. \n",
    "Este modelo tuvo una mejora en comparacion con la prueba de cordura y el modelo arbol de desicion. "
   ]
  },
  {
   "cell_type": "code",
   "execution_count": 16,
   "metadata": {},
   "outputs": [
    {
     "name": "stdout",
     "output_type": "stream",
     "text": [
      "RECM del modelo de regresion lineal en el conjunto de validacion 0.45504947446604305\n"
     ]
    }
   ],
   "source": [
    "#Modelo de Regresion Lineal \n",
    "model_linel = LinearRegression()\n",
    "model_linel.fit(features_train_ecm,target_train_ecm)\n",
    "prediction_lineal_valid_ecm = model_linel.predict(features_valid_ecm)\n",
    "RECM_linel = mean_squared_error(target_valid_ecm,prediction_lineal_valid_ecm)**0.5\n",
    "\n",
    "print('RECM del modelo de regresion lineal en el conjunto de validacion',RECM_linel)"
   ]
  },
  {
   "cell_type": "markdown",
   "metadata": {},
   "source": [
    "De nuevo, podemos ver que no es el mejor modelo en comparacion a los otros 2, esta por debajo de la prueba de cordura.\n",
    "Sin embargo, el RECM es muy alto en comparacion al modelo bosque aleatorio. "
   ]
  },
  {
   "cell_type": "markdown",
   "metadata": {},
   "source": [
    "SELECCIÓN DE MODELO FINAL Y CONCLUSIONES\n",
    "---"
   ]
  },
  {
   "cell_type": "markdown",
   "metadata": {},
   "source": [
    "De acurdo con las pruebas anteriores, el mejor modelo a trabajar para determinar que plan es el utilizado y cual es el mas recomendable dependiendo el uso de datos, llamadas y mensajes, es el Bosque Aleatorio. \n",
    "Esto es por su buena exactitud utilizando un numero de arboles de 7 y al obtener el valor de RECM mas bajo podemos concluir que este modelo nos da respuestas con un rango de error mas pequeño y dentro del margen de un 75% de exactitud. "
   ]
  },
  {
   "cell_type": "code",
   "execution_count": 19,
   "metadata": {},
   "outputs": [
    {
     "name": "stdout",
     "output_type": "stream",
     "text": [
      "El RECM obtenido con el modelo de bosque aleatorio con 7 arboles es: 0.1781998979717685\n"
     ]
    }
   ],
   "source": [
    "final_features = features = df.drop(['is_ultra'],axis=1)\n",
    "final_target = target = df['is_ultra']\n",
    "final_model = RandomForestRegressor(random_state=54321,n_estimators=7)\n",
    "final_model.fit(final_features,final_target)\n",
    "\n",
    "predictions_final = final_model.predict(final_features)\n",
    "recm_final = mean_squared_error(final_target,predictions_final)** 0.5\n",
    "print('El RECM obtenido con el modelo de bosque aleatorio con 7 arboles es:',recm_final)"
   ]
  }
 ],
 "metadata": {
  "kernelspec": {
   "display_name": "Python 3",
   "language": "python",
   "name": "python3"
  },
  "language_info": {
   "codemirror_mode": {
    "name": "ipython",
    "version": 3
   },
   "file_extension": ".py",
   "mimetype": "text/x-python",
   "name": "python",
   "nbconvert_exporter": "python",
   "pygments_lexer": "ipython3",
   "version": "3.12.4"
  }
 },
 "nbformat": 4,
 "nbformat_minor": 2
}
